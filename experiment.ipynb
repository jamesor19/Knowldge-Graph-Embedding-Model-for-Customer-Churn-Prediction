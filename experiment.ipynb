{
 "cells": [
  {
   "cell_type": "code",
   "execution_count": 1,
   "id": "925e2179",
   "metadata": {},
   "outputs": [
    {
     "name": "stdout",
     "output_type": "stream",
     "text": [
      "1.4.0\n",
      "1.15.0\n",
      "0.24.2\n",
      "1.20.3\n",
      "0.8.0\n"
     ]
    }
   ],
   "source": [
    "import numpy as np\n",
    "import tensorflow as tf\n",
    "import ampligraph\n",
    "import pandas as pd\n",
    "import sklearn as sk\n",
    "from sklearn.model_selection import train_test_split\n",
    "from ampligraph.latent_features import save_model, restore_model\n",
    "from tqdm import tqdm\n",
    "import imblearn\n",
    "\n",
    "\n",
    "print(ampligraph.__version__)\n",
    "print(tf.__version__)\n",
    "print(sk.__version__)\n",
    "print(np.__version__)"
   ]
  },
  {
   "cell_type": "code",
   "execution_count": 2,
   "id": "aaab51fa",
   "metadata": {},
   "outputs": [
    {
     "data": {
      "text/html": [
       "<div>\n",
       "<style scoped>\n",
       "    .dataframe tbody tr th:only-of-type {\n",
       "        vertical-align: middle;\n",
       "    }\n",
       "\n",
       "    .dataframe tbody tr th {\n",
       "        vertical-align: top;\n",
       "    }\n",
       "\n",
       "    .dataframe thead th {\n",
       "        text-align: right;\n",
       "    }\n",
       "</style>\n",
       "<table border=\"1\" class=\"dataframe\">\n",
       "  <thead>\n",
       "    <tr style=\"text-align: right;\">\n",
       "      <th></th>\n",
       "      <th>Unnamed: 0</th>\n",
       "      <th>subject</th>\n",
       "      <th>predicate</th>\n",
       "      <th>object</th>\n",
       "    </tr>\n",
       "  </thead>\n",
       "  <tbody>\n",
       "    <tr>\n",
       "      <th>0</th>\n",
       "      <td>0</td>\n",
       "      <td>8668-KNZTI</td>\n",
       "      <td>hasZipCode</td>\n",
       "      <td>95834</td>\n",
       "    </tr>\n",
       "    <tr>\n",
       "      <th>1</th>\n",
       "      <td>1</td>\n",
       "      <td>8668-KNZTI</td>\n",
       "      <td>hasChurned</td>\n",
       "      <td>False</td>\n",
       "    </tr>\n",
       "    <tr>\n",
       "      <th>2</th>\n",
       "      <td>2</td>\n",
       "      <td>8668-KNZTI</td>\n",
       "      <td>totalCharges</td>\n",
       "      <td>2790.65</td>\n",
       "    </tr>\n",
       "    <tr>\n",
       "      <th>3</th>\n",
       "      <td>3</td>\n",
       "      <td>8668-KNZTI</td>\n",
       "      <td>hasMonthlyCharges</td>\n",
       "      <td>53.75</td>\n",
       "    </tr>\n",
       "    <tr>\n",
       "      <th>4</th>\n",
       "      <td>4</td>\n",
       "      <td>8668-KNZTI</td>\n",
       "      <td>usesPaymentMethod</td>\n",
       "      <td>Electronic check</td>\n",
       "    </tr>\n",
       "  </tbody>\n",
       "</table>\n",
       "</div>"
      ],
      "text/plain": [
       "   Unnamed: 0     subject          predicate            object\n",
       "0           0  8668-KNZTI         hasZipCode             95834\n",
       "1           1  8668-KNZTI         hasChurned             False\n",
       "2           2  8668-KNZTI       totalCharges           2790.65\n",
       "3           3  8668-KNZTI  hasMonthlyCharges             53.75\n",
       "4           4  8668-KNZTI  usesPaymentMethod  Electronic check"
      ]
     },
     "execution_count": 2,
     "metadata": {},
     "output_type": "execute_result"
    }
   ],
   "source": [
    "import ampligraph\n",
    "bankTriples = pd.read_csv(\"BankTriples.csv\")\n",
    "\n",
    "telcoTriples = pd.read_csv(\"TelcoTriples.csv\")\n",
    "    \n",
    "bankData = pd.read_csv(\"bank_prepped.csv\")\n",
    "\n",
    "telcoData = pd.read_csv(\"Telco_prepped.csv\")\n",
    "\n",
    "telcoTriples.head()"
   ]
  },
  {
   "cell_type": "code",
   "execution_count": 3,
   "id": "eba4871a",
   "metadata": {},
   "outputs": [
    {
     "data": {
      "text/html": [
       "<div>\n",
       "<style scoped>\n",
       "    .dataframe tbody tr th:only-of-type {\n",
       "        vertical-align: middle;\n",
       "    }\n",
       "\n",
       "    .dataframe tbody tr th {\n",
       "        vertical-align: top;\n",
       "    }\n",
       "\n",
       "    .dataframe thead th {\n",
       "        text-align: right;\n",
       "    }\n",
       "</style>\n",
       "<table border=\"1\" class=\"dataframe\">\n",
       "  <thead>\n",
       "    <tr style=\"text-align: right;\">\n",
       "      <th></th>\n",
       "      <th>Unnamed: 0</th>\n",
       "      <th>CustomerId</th>\n",
       "      <th>CreditScore</th>\n",
       "      <th>Geography</th>\n",
       "      <th>Gender</th>\n",
       "      <th>Age</th>\n",
       "      <th>Tenure</th>\n",
       "      <th>Balance</th>\n",
       "      <th>NumOfProducts</th>\n",
       "      <th>HasCrCard</th>\n",
       "      <th>IsActiveMember</th>\n",
       "      <th>EstimatedSalary</th>\n",
       "      <th>Exited</th>\n",
       "    </tr>\n",
       "  </thead>\n",
       "  <tbody>\n",
       "    <tr>\n",
       "      <th>3283</th>\n",
       "      <td>3283</td>\n",
       "      <td>15807163</td>\n",
       "      <td>537</td>\n",
       "      <td>France</td>\n",
       "      <td>Female</td>\n",
       "      <td>38</td>\n",
       "      <td>10</td>\n",
       "      <td>0.00</td>\n",
       "      <td>1</td>\n",
       "      <td>False</td>\n",
       "      <td>False</td>\n",
       "      <td>52337.97</td>\n",
       "      <td>True</td>\n",
       "    </tr>\n",
       "    <tr>\n",
       "      <th>1729</th>\n",
       "      <td>1729</td>\n",
       "      <td>15596647</td>\n",
       "      <td>768</td>\n",
       "      <td>France</td>\n",
       "      <td>Male</td>\n",
       "      <td>54</td>\n",
       "      <td>8</td>\n",
       "      <td>69712.74</td>\n",
       "      <td>1</td>\n",
       "      <td>True</td>\n",
       "      <td>True</td>\n",
       "      <td>69381.05</td>\n",
       "      <td>False</td>\n",
       "    </tr>\n",
       "    <tr>\n",
       "      <th>3784</th>\n",
       "      <td>3784</td>\n",
       "      <td>15605072</td>\n",
       "      <td>638</td>\n",
       "      <td>France</td>\n",
       "      <td>Female</td>\n",
       "      <td>43</td>\n",
       "      <td>3</td>\n",
       "      <td>145860.98</td>\n",
       "      <td>1</td>\n",
       "      <td>True</td>\n",
       "      <td>True</td>\n",
       "      <td>142763.51</td>\n",
       "      <td>True</td>\n",
       "    </tr>\n",
       "    <tr>\n",
       "      <th>3063</th>\n",
       "      <td>3063</td>\n",
       "      <td>15691004</td>\n",
       "      <td>407</td>\n",
       "      <td>Spain</td>\n",
       "      <td>Male</td>\n",
       "      <td>37</td>\n",
       "      <td>1</td>\n",
       "      <td>0.00</td>\n",
       "      <td>1</td>\n",
       "      <td>True</td>\n",
       "      <td>True</td>\n",
       "      <td>49161.12</td>\n",
       "      <td>True</td>\n",
       "    </tr>\n",
       "    <tr>\n",
       "      <th>868</th>\n",
       "      <td>868</td>\n",
       "      <td>15723856</td>\n",
       "      <td>602</td>\n",
       "      <td>France</td>\n",
       "      <td>Female</td>\n",
       "      <td>29</td>\n",
       "      <td>3</td>\n",
       "      <td>88814.40</td>\n",
       "      <td>2</td>\n",
       "      <td>True</td>\n",
       "      <td>True</td>\n",
       "      <td>62487.97</td>\n",
       "      <td>False</td>\n",
       "    </tr>\n",
       "  </tbody>\n",
       "</table>\n",
       "</div>"
      ],
      "text/plain": [
       "      Unnamed: 0  CustomerId  CreditScore Geography  Gender  Age  Tenure  \\\n",
       "3283        3283    15807163          537    France  Female   38      10   \n",
       "1729        1729    15596647          768    France    Male   54       8   \n",
       "3784        3784    15605072          638    France  Female   43       3   \n",
       "3063        3063    15691004          407     Spain    Male   37       1   \n",
       "868          868    15723856          602    France  Female   29       3   \n",
       "\n",
       "        Balance  NumOfProducts  HasCrCard  IsActiveMember  EstimatedSalary  \\\n",
       "3283       0.00              1      False           False         52337.97   \n",
       "1729   69712.74              1       True            True         69381.05   \n",
       "3784  145860.98              1       True            True        142763.51   \n",
       "3063       0.00              1       True            True         49161.12   \n",
       "868    88814.40              2       True            True         62487.97   \n",
       "\n",
       "      Exited  \n",
       "3283    True  \n",
       "1729   False  \n",
       "3784    True  \n",
       "3063    True  \n",
       "868    False  "
      ]
     },
     "execution_count": 3,
     "metadata": {},
     "output_type": "execute_result"
    }
   ],
   "source": [
    "bankData = bankData.sample(frac=1)\n",
    "\n",
    "bankData.head()\n",
    "\n"
   ]
  },
  {
   "cell_type": "code",
   "execution_count": null,
   "id": "4f227740",
   "metadata": {},
   "outputs": [],
   "source": []
  },
  {
   "cell_type": "code",
   "execution_count": 4,
   "id": "597e7543",
   "metadata": {},
   "outputs": [],
   "source": [
    "bank_x = bankData.loc[:, bankData.columns != 'Exited']\n",
    "\n",
    "bank_y = bankData[\"Exited\"]\n",
    "\n",
    "telco_x = telcoData.loc[:, telcoData.columns != 'Churn Value']\n",
    "\n",
    "telco_y = telcoData[\"Churn Value\"]"
   ]
  },
  {
   "cell_type": "code",
   "execution_count": 5,
   "id": "1cd87b0f",
   "metadata": {},
   "outputs": [],
   "source": [
    "X_bank_train, X_bank_test, y_bank_train, y_bank_test = train_test_split(\n",
    "    bank_x, bank_y, test_size=0.20, random_state=145)\n",
    "\n",
    "X_telco_train, X_telco_test, y_telco_train, y_telco_test = train_test_split(\n",
    "    telco_x, telco_y, test_size=0.20, random_state=145)"
   ]
  },
  {
   "cell_type": "code",
   "execution_count": 6,
   "id": "ccb81a32",
   "metadata": {},
   "outputs": [
    {
     "name": "stdout",
     "output_type": "stream",
     "text": [
      "      subject          predicate            object\n",
      "0  8668-KNZTI         hasZipCode             95834\n",
      "1  8668-KNZTI         hasChurned             False\n",
      "2  8668-KNZTI       totalCharges           2790.65\n",
      "3  8668-KNZTI  hasMonthlyCharges             53.75\n",
      "4  8668-KNZTI  usesPaymentMethod  Electronic check\n",
      "        subject   predicate object\n",
      "93   9575-IWCAZ  hasChurned  False\n",
      "162  1552-CZCLL  hasChurned  False\n",
      "254  7036-ZZKBD  hasChurned  False\n",
      "277  9314-QDMDW  hasChurned  False\n",
      "622  0793-TWELN  hasChurned  False\n",
      "85226\n",
      "748\n",
      "######\n",
      "      subject   predicate object\n",
      "96   15596914  hasChurned  False\n",
      "129  15585041  hasChurned  False\n",
      "206  15576723  hasChurned  False\n",
      "283  15736371  hasChurned  False\n",
      "294  15619932  hasChurned  False\n",
      "    subject         predicate  object\n",
      "0  15692761  hasCreditScoreOf     718\n",
      "1  15692761         hasGender    Male\n",
      "2  15692761             isAge      36\n",
      "3  15692761         inCountry  France\n",
      "4  15692761        hasBalance     0.0\n",
      "43999\n"
     ]
    },
    {
     "data": {
      "text/html": [
       "<div>\n",
       "<style scoped>\n",
       "    .dataframe tbody tr th:only-of-type {\n",
       "        vertical-align: middle;\n",
       "    }\n",
       "\n",
       "    .dataframe tbody tr th {\n",
       "        vertical-align: top;\n",
       "    }\n",
       "\n",
       "    .dataframe thead th {\n",
       "        text-align: right;\n",
       "    }\n",
       "</style>\n",
       "<table border=\"1\" class=\"dataframe\">\n",
       "  <thead>\n",
       "    <tr style=\"text-align: right;\">\n",
       "      <th></th>\n",
       "      <th>subject</th>\n",
       "      <th>predicate</th>\n",
       "      <th>object</th>\n",
       "    </tr>\n",
       "  </thead>\n",
       "  <tbody>\n",
       "    <tr>\n",
       "      <th>0</th>\n",
       "      <td>15692761</td>\n",
       "      <td>hasCreditScoreOf</td>\n",
       "      <td>718</td>\n",
       "    </tr>\n",
       "    <tr>\n",
       "      <th>1</th>\n",
       "      <td>15692761</td>\n",
       "      <td>hasGender</td>\n",
       "      <td>Male</td>\n",
       "    </tr>\n",
       "    <tr>\n",
       "      <th>2</th>\n",
       "      <td>15692761</td>\n",
       "      <td>isAge</td>\n",
       "      <td>36</td>\n",
       "    </tr>\n",
       "    <tr>\n",
       "      <th>3</th>\n",
       "      <td>15692761</td>\n",
       "      <td>inCountry</td>\n",
       "      <td>France</td>\n",
       "    </tr>\n",
       "    <tr>\n",
       "      <th>4</th>\n",
       "      <td>15692761</td>\n",
       "      <td>hasBalance</td>\n",
       "      <td>0.0</td>\n",
       "    </tr>\n",
       "  </tbody>\n",
       "</table>\n",
       "</div>"
      ],
      "text/plain": [
       "    subject         predicate  object\n",
       "0  15692761  hasCreditScoreOf     718\n",
       "1  15692761         hasGender    Male\n",
       "2  15692761             isAge      36\n",
       "3  15692761         inCountry  France\n",
       "4  15692761        hasBalance     0.0"
      ]
     },
     "execution_count": 6,
     "metadata": {},
     "output_type": "execute_result"
    }
   ],
   "source": [
    "#subsetting telco data\n",
    "\n",
    "ids = X_telco_test[\"CustomerID\"]\n",
    "    \n",
    "idList = list(ids)\n",
    "    \n",
    "testTriplesTelco = telcoTriples[(telcoTriples[\"subject\"].isin(idList)) & (telcoTriples[\"predicate\"] == \"hasChurned\")]\n",
    "    \n",
    "\n",
    "trainTriplesTelco = telcoTriples.merge(testTriplesTelco,how =\"left\",indicator=True)\n",
    "\n",
    "trainTriplesTelco = trainTriplesTelco[trainTriplesTelco['_merge'] == \"left_only\"]\n",
    "\n",
    "\n",
    "del trainTriplesTelco[\"Unnamed: 0\"]\n",
    "del trainTriplesTelco[\"_merge\"]\n",
    "del testTriplesTelco[\"Unnamed: 0\"]\n",
    "\n",
    "\n",
    "telcoFilters = pd.concat([trainTriplesTelco, testTriplesTelco])\n",
    "\n",
    "\n",
    "#Subsetting the Bank Triples \n",
    "ids = X_bank_test[\"CustomerId\"]\n",
    "    \n",
    "idList = list(ids)\n",
    "    \n",
    "testTriplesBank = bankTriples[(bankTriples[\"subject\"].isin(idList)) & (bankTriples[\"predicate\"] == \"hasChurned\")]\n",
    "    \n",
    "\n",
    "trainTriplesBank = bankTriples.merge(testTriplesBank,how =\"left\",indicator=True)\n",
    "\n",
    "trainTriplesBank = trainTriplesBank[trainTriplesBank['_merge'] == \"left_only\"]\n",
    "\n",
    "\n",
    "\n",
    "\n",
    "\n",
    "del trainTriplesBank[\"Unnamed: 0\"]\n",
    "del trainTriplesBank[\"_merge\"]\n",
    "del testTriplesBank[\"Unnamed: 0\"]\n",
    "\n",
    "\n",
    "trainTriplesBank[\"subject\"] = trainTriplesBank[\"subject\"].astype(str)\n",
    "\n",
    "\n",
    "\n",
    "\n",
    "\n",
    "\n",
    "bankFilters = pd.concat([trainTriplesBank,testTriplesBank])\n",
    "\n"
   ]
  },
  {
   "cell_type": "code",
   "execution_count": 7,
   "id": "5baae28b",
   "metadata": {},
   "outputs": [
    {
     "data": {
      "text/html": [
       "<div>\n",
       "<style scoped>\n",
       "    .dataframe tbody tr th:only-of-type {\n",
       "        vertical-align: middle;\n",
       "    }\n",
       "\n",
       "    .dataframe tbody tr th {\n",
       "        vertical-align: top;\n",
       "    }\n",
       "\n",
       "    .dataframe thead th {\n",
       "        text-align: right;\n",
       "    }\n",
       "</style>\n",
       "<table border=\"1\" class=\"dataframe\">\n",
       "  <thead>\n",
       "    <tr style=\"text-align: right;\">\n",
       "      <th></th>\n",
       "      <th>subject</th>\n",
       "      <th>predicate</th>\n",
       "      <th>object</th>\n",
       "    </tr>\n",
       "  </thead>\n",
       "  <tbody>\n",
       "    <tr>\n",
       "      <th>8</th>\n",
       "      <td>15692761</td>\n",
       "      <td>hasChurned</td>\n",
       "      <td>False</td>\n",
       "    </tr>\n",
       "    <tr>\n",
       "      <th>19</th>\n",
       "      <td>15700046</td>\n",
       "      <td>hasChurned</td>\n",
       "      <td>False</td>\n",
       "    </tr>\n",
       "    <tr>\n",
       "      <th>30</th>\n",
       "      <td>15709324</td>\n",
       "      <td>hasChurned</td>\n",
       "      <td>False</td>\n",
       "    </tr>\n",
       "    <tr>\n",
       "      <th>41</th>\n",
       "      <td>15745452</td>\n",
       "      <td>hasChurned</td>\n",
       "      <td>False</td>\n",
       "    </tr>\n",
       "    <tr>\n",
       "      <th>52</th>\n",
       "      <td>15599081</td>\n",
       "      <td>hasChurned</td>\n",
       "      <td>False</td>\n",
       "    </tr>\n",
       "    <tr>\n",
       "      <th>...</th>\n",
       "      <td>...</td>\n",
       "      <td>...</td>\n",
       "      <td>...</td>\n",
       "    </tr>\n",
       "    <tr>\n",
       "      <th>44756</th>\n",
       "      <td>15666295</td>\n",
       "      <td>hasChurned</td>\n",
       "      <td>True</td>\n",
       "    </tr>\n",
       "    <tr>\n",
       "      <th>44767</th>\n",
       "      <td>15672754</td>\n",
       "      <td>hasChurned</td>\n",
       "      <td>True</td>\n",
       "    </tr>\n",
       "    <tr>\n",
       "      <th>44778</th>\n",
       "      <td>15768163</td>\n",
       "      <td>hasChurned</td>\n",
       "      <td>True</td>\n",
       "    </tr>\n",
       "    <tr>\n",
       "      <th>44800</th>\n",
       "      <td>15584532</td>\n",
       "      <td>hasChurned</td>\n",
       "      <td>True</td>\n",
       "    </tr>\n",
       "    <tr>\n",
       "      <th>44811</th>\n",
       "      <td>15682355</td>\n",
       "      <td>hasChurned</td>\n",
       "      <td>True</td>\n",
       "    </tr>\n",
       "  </tbody>\n",
       "</table>\n",
       "<p>3259 rows × 3 columns</p>\n",
       "</div>"
      ],
      "text/plain": [
       "        subject   predicate object\n",
       "8      15692761  hasChurned  False\n",
       "19     15700046  hasChurned  False\n",
       "30     15709324  hasChurned  False\n",
       "41     15745452  hasChurned  False\n",
       "52     15599081  hasChurned  False\n",
       "...         ...         ...    ...\n",
       "44756  15666295  hasChurned   True\n",
       "44767  15672754  hasChurned   True\n",
       "44778  15768163  hasChurned   True\n",
       "44800  15584532  hasChurned   True\n",
       "44811  15682355  hasChurned   True\n",
       "\n",
       "[3259 rows x 3 columns]"
      ]
     },
     "execution_count": 7,
     "metadata": {},
     "output_type": "execute_result"
    }
   ],
   "source": [
    "trainTriplesBank[(trainTriplesBank.predicate==\"hasChurned\")]"
   ]
  },
  {
   "cell_type": "code",
   "execution_count": 8,
   "id": "5948ed0d",
   "metadata": {},
   "outputs": [
    {
     "data": {
      "text/html": [
       "<div>\n",
       "<style scoped>\n",
       "    .dataframe tbody tr th:only-of-type {\n",
       "        vertical-align: middle;\n",
       "    }\n",
       "\n",
       "    .dataframe tbody tr th {\n",
       "        vertical-align: top;\n",
       "    }\n",
       "\n",
       "    .dataframe thead th {\n",
       "        text-align: right;\n",
       "    }\n",
       "</style>\n",
       "<table border=\"1\" class=\"dataframe\">\n",
       "  <thead>\n",
       "    <tr style=\"text-align: right;\">\n",
       "      <th></th>\n",
       "      <th>subject</th>\n",
       "      <th>predicate</th>\n",
       "      <th>object</th>\n",
       "    </tr>\n",
       "  </thead>\n",
       "  <tbody>\n",
       "    <tr>\n",
       "      <th>1</th>\n",
       "      <td>8668-KNZTI</td>\n",
       "      <td>hasChurned</td>\n",
       "      <td>False</td>\n",
       "    </tr>\n",
       "    <tr>\n",
       "      <th>24</th>\n",
       "      <td>1099-BTKWT</td>\n",
       "      <td>hasChurned</td>\n",
       "      <td>False</td>\n",
       "    </tr>\n",
       "    <tr>\n",
       "      <th>47</th>\n",
       "      <td>1536-YHDOE</td>\n",
       "      <td>hasChurned</td>\n",
       "      <td>False</td>\n",
       "    </tr>\n",
       "    <tr>\n",
       "      <th>70</th>\n",
       "      <td>7048-GXDAY</td>\n",
       "      <td>hasChurned</td>\n",
       "      <td>False</td>\n",
       "    </tr>\n",
       "    <tr>\n",
       "      <th>116</th>\n",
       "      <td>1027-LKKQQ</td>\n",
       "      <td>hasChurned</td>\n",
       "      <td>False</td>\n",
       "    </tr>\n",
       "    <tr>\n",
       "      <th>...</th>\n",
       "      <td>...</td>\n",
       "      <td>...</td>\n",
       "      <td>...</td>\n",
       "    </tr>\n",
       "    <tr>\n",
       "      <th>85837</th>\n",
       "      <td>1122-JWTJW</td>\n",
       "      <td>hasChurned</td>\n",
       "      <td>True</td>\n",
       "    </tr>\n",
       "    <tr>\n",
       "      <th>85860</th>\n",
       "      <td>1699-HPSBG</td>\n",
       "      <td>hasChurned</td>\n",
       "      <td>True</td>\n",
       "    </tr>\n",
       "    <tr>\n",
       "      <th>85883</th>\n",
       "      <td>8775-CEBBJ</td>\n",
       "      <td>hasChurned</td>\n",
       "      <td>True</td>\n",
       "    </tr>\n",
       "    <tr>\n",
       "      <th>85929</th>\n",
       "      <td>0639-TSIQW</td>\n",
       "      <td>hasChurned</td>\n",
       "      <td>True</td>\n",
       "    </tr>\n",
       "    <tr>\n",
       "      <th>85952</th>\n",
       "      <td>8361-LTMKD</td>\n",
       "      <td>hasChurned</td>\n",
       "      <td>True</td>\n",
       "    </tr>\n",
       "  </tbody>\n",
       "</table>\n",
       "<p>2990 rows × 3 columns</p>\n",
       "</div>"
      ],
      "text/plain": [
       "          subject   predicate object\n",
       "1      8668-KNZTI  hasChurned  False\n",
       "24     1099-BTKWT  hasChurned  False\n",
       "47     1536-YHDOE  hasChurned  False\n",
       "70     7048-GXDAY  hasChurned  False\n",
       "116    1027-LKKQQ  hasChurned  False\n",
       "...           ...         ...    ...\n",
       "85837  1122-JWTJW  hasChurned   True\n",
       "85860  1699-HPSBG  hasChurned   True\n",
       "85883  8775-CEBBJ  hasChurned   True\n",
       "85929  0639-TSIQW  hasChurned   True\n",
       "85952  8361-LTMKD  hasChurned   True\n",
       "\n",
       "[2990 rows x 3 columns]"
      ]
     },
     "execution_count": 8,
     "metadata": {},
     "output_type": "execute_result"
    }
   ],
   "source": [
    "trainTriplesTelco[(trainTriplesTelco.predicate==\"hasChurned\")]"
   ]
  },
  {
   "cell_type": "markdown",
   "id": "14709c14",
   "metadata": {},
   "source": [
    "# TransE model"
   ]
  },
  {
   "cell_type": "code",
   "execution_count": 9,
   "id": "2830bc9d",
   "metadata": {},
   "outputs": [],
   "source": [
    "#TransE model training\n",
    "from ampligraph.latent_features import TransE\n",
    "\n",
    "\n",
    "transEModelBank = TransE(batches_count=20,\n",
    "                    seed=1525,\n",
    "                    epochs=500,\n",
    "                    k=45,\n",
    "                    eta=20,\n",
    "                    optimizer='adam',\n",
    "                    optimizer_params={'lr':1e-3},\n",
    "                    loss='pairwise',\n",
    "                    regularizer='LP', \n",
    "                    regularizer_params={'p':2, 'lambda':1e-5},\n",
    "                    verbose=True)\n",
    "\n"
   ]
  },
  {
   "cell_type": "code",
   "execution_count": 10,
   "id": "d1a421b2",
   "metadata": {},
   "outputs": [
    {
     "name": "stderr",
     "output_type": "stream",
     "text": [
      "Average TransE Loss:   0.049648: 100%|██████████| 500/500 [01:23<00:00,  5.96epoch/s]\n"
     ]
    }
   ],
   "source": [
    "transEModelBankHistory = transEModelBank.fit(trainTriplesBank.to_numpy(), early_stopping = False,\n",
    "              early_stopping_params = \n",
    "                   {\n",
    "                  'x_filter': bankFilters     \n",
    "              })"
   ]
  },
  {
   "cell_type": "code",
   "execution_count": null,
   "id": "d10741fe",
   "metadata": {},
   "outputs": [],
   "source": []
  },
  {
   "cell_type": "code",
   "execution_count": 11,
   "id": "4ce23246",
   "metadata": {},
   "outputs": [],
   "source": [
    "save_model(transEModelBank, './models/transEModelBank.pkl')"
   ]
  },
  {
   "cell_type": "code",
   "execution_count": 12,
   "id": "10ba8387",
   "metadata": {},
   "outputs": [],
   "source": [
    "transEModelTelco = TransE(batches_count=20,\n",
    "                    seed=42,\n",
    "                    epochs=500,\n",
    "                    k=65,\n",
    "                    eta=20,\n",
    "                    optimizer='adam',\n",
    "                    optimizer_params={'lr':1e-3},\n",
    "                    loss='pairwise',\n",
    "                    regularizer='LP', \n",
    "                    regularizer_params={'p':2, 'lambda':1e-5},\n",
    "                    verbose=True)"
   ]
  },
  {
   "cell_type": "code",
   "execution_count": 13,
   "id": "7b291f99",
   "metadata": {},
   "outputs": [
    {
     "name": "stderr",
     "output_type": "stream",
     "text": [
      "Average TransE Loss:   0.052764: 100%|██████████| 500/500 [02:41<00:00,  3.10epoch/s]\n"
     ]
    }
   ],
   "source": [
    "transEModelTelco.fit(trainTriplesTelco.to_numpy(),\n",
    "              early_stopping_params = \n",
    "                   {\n",
    "                  'x_filter': telcoFilters\n",
    "              })"
   ]
  },
  {
   "cell_type": "code",
   "execution_count": 14,
   "id": "a6892842",
   "metadata": {},
   "outputs": [],
   "source": [
    "save_model(transEModelTelco, './models/transEModelTelco.pkl')"
   ]
  },
  {
   "cell_type": "markdown",
   "id": "b9c295fb",
   "metadata": {},
   "source": [
    "# DistMult"
   ]
  },
  {
   "cell_type": "code",
   "execution_count": 15,
   "id": "50a7b680",
   "metadata": {},
   "outputs": [],
   "source": [
    "#DistMult\n",
    "from ampligraph.latent_features import DistMult\n",
    "\n",
    "\n",
    "distmultModelBank = DistMult(batches_count=20,\n",
    "                      seed=57,\n",
    "                      epochs=500, \n",
    "                      k=12,\n",
    "                      eta=20,\n",
    "                     optimizer='adam',\n",
    "                     optimizer_params={'lr':1e-3},\n",
    "                      loss='pairwise',\n",
    "                    regularizer='LP', \n",
    "                    regularizer_params={'p':1, 'lambda':1e-5},\n",
    "                     verbose=True)\n",
    "\n"
   ]
  },
  {
   "cell_type": "code",
   "execution_count": 16,
   "id": "3c593ed9",
   "metadata": {},
   "outputs": [
    {
     "name": "stderr",
     "output_type": "stream",
     "text": [
      "Average DistMult Loss:   0.058712: 100%|██████████| 500/500 [00:57<00:00,  8.66epoch/s]\n"
     ]
    }
   ],
   "source": [
    "distmultModelBank.fit(trainTriplesBank.to_numpy(),\n",
    "              early_stopping_params = \n",
    "                   {\n",
    "                  'x_filter': bankFilters\n",
    "              })"
   ]
  },
  {
   "cell_type": "code",
   "execution_count": 17,
   "id": "c7955cc0",
   "metadata": {},
   "outputs": [],
   "source": [
    "save_model(distmultModelBank, './models/distmultModelBank.pkl')"
   ]
  },
  {
   "cell_type": "code",
   "execution_count": 18,
   "id": "f240a868",
   "metadata": {},
   "outputs": [],
   "source": [
    "distmultModelTelco = DistMult(batches_count=20,\n",
    "                      seed=475,\n",
    "                      epochs=500, \n",
    "                      k=16,\n",
    "                      eta=20,\n",
    "                     optimizer='adam',\n",
    "                    optimizer_params={'lr':1e-3},\n",
    "                      loss='pairwise',\n",
    "                    regularizer='LP', \n",
    "                    regularizer_params={'p':1, 'lambda':1e-5},\n",
    "                     verbose=True)"
   ]
  },
  {
   "cell_type": "code",
   "execution_count": 19,
   "id": "4ef6cabc",
   "metadata": {},
   "outputs": [
    {
     "name": "stderr",
     "output_type": "stream",
     "text": [
      "Average DistMult Loss:   0.059675: 100%|██████████| 500/500 [01:33<00:00,  5.37epoch/s]\n"
     ]
    }
   ],
   "source": [
    "distmultModelTelco.fit(trainTriplesTelco.to_numpy(),\n",
    "              early_stopping_params = \n",
    "                   {\n",
    "                  'x_filter': telcoFilters   \n",
    "              })\n"
   ]
  },
  {
   "cell_type": "code",
   "execution_count": 20,
   "id": "d6a09647",
   "metadata": {},
   "outputs": [],
   "source": [
    "save_model(distmultModelTelco, './models/distmultModelTelco.pkl')"
   ]
  },
  {
   "cell_type": "markdown",
   "id": "03e60d24",
   "metadata": {},
   "source": [
    "# Complex model training"
   ]
  },
  {
   "cell_type": "code",
   "execution_count": 21,
   "id": "a3828722",
   "metadata": {},
   "outputs": [],
   "source": [
    "#Complex model\n",
    "from ampligraph.latent_features import ComplEx"
   ]
  },
  {
   "cell_type": "code",
   "execution_count": 22,
   "id": "6ae3b154",
   "metadata": {},
   "outputs": [],
   "source": [
    "complexModelBank= ComplEx(batches_count=20,\n",
    "                          seed=34,\n",
    "                          epochs=500, \n",
    "                          k=5,\n",
    "                          eta=20,\n",
    "                         optimizer='adam',\n",
    "                        optimizer_params={'lr':1e-3},\n",
    "                          loss='pairwise',\n",
    "                          regularizer='LP', \n",
    "                regularizer_params={'p':3, 'lambda':1e-5},\n",
    "                         verbose=True)"
   ]
  },
  {
   "cell_type": "code",
   "execution_count": 23,
   "id": "ea5f898c",
   "metadata": {},
   "outputs": [
    {
     "name": "stderr",
     "output_type": "stream",
     "text": [
      "Average ComplEx Loss:   0.066507: 100%|██████████| 500/500 [01:26<00:00,  5.78epoch/s]\n"
     ]
    }
   ],
   "source": [
    "complexModelBank.fit(trainTriplesBank.to_numpy(),\n",
    "              early_stopping_params = \n",
    "                   {\n",
    "                  'x_filter': bankFilters\n",
    "              })"
   ]
  },
  {
   "cell_type": "code",
   "execution_count": 24,
   "id": "24bc1a3e",
   "metadata": {},
   "outputs": [],
   "source": [
    "save_model(complexModelBank, './models/complexModelBank.pkl')"
   ]
  },
  {
   "cell_type": "code",
   "execution_count": 25,
   "id": "fe24c324",
   "metadata": {},
   "outputs": [],
   "source": [
    "complexModelTelco= ComplEx(batches_count=20,\n",
    "                           seed=85,\n",
    "                          epochs=500, \n",
    "                          k=10,\n",
    "                          eta=20,\n",
    "                         optimizer='adam',\n",
    "                           optimizer_params={'lr':1e-3},\n",
    "                          loss='pairwise',\n",
    "                           regularizer='LP', \n",
    "                    regularizer_params={'p':3, 'lambda':1e-5},\n",
    "                         verbose=True)"
   ]
  },
  {
   "cell_type": "code",
   "execution_count": 26,
   "id": "6fe7fd25",
   "metadata": {},
   "outputs": [
    {
     "name": "stderr",
     "output_type": "stream",
     "text": [
      "Average ComplEx Loss:   0.055131: 100%|██████████| 500/500 [02:30<00:00,  3.33epoch/s]\n"
     ]
    }
   ],
   "source": [
    "complexModelTelco.fit(trainTriplesTelco.to_numpy(),\n",
    "              early_stopping_params = \n",
    "                   {\n",
    "                  'x_filter': telcoFilters \n",
    "              })"
   ]
  },
  {
   "cell_type": "code",
   "execution_count": 27,
   "id": "2fb7de0a",
   "metadata": {},
   "outputs": [],
   "source": [
    "save_model(complexModelTelco, './models/complexModelTelco.pkl')"
   ]
  },
  {
   "cell_type": "code",
   "execution_count": 28,
   "id": "2c8b3870",
   "metadata": {},
   "outputs": [
    {
     "data": {
      "text/html": [
       "<div>\n",
       "<style scoped>\n",
       "    .dataframe tbody tr th:only-of-type {\n",
       "        vertical-align: middle;\n",
       "    }\n",
       "\n",
       "    .dataframe tbody tr th {\n",
       "        vertical-align: top;\n",
       "    }\n",
       "\n",
       "    .dataframe thead th {\n",
       "        text-align: right;\n",
       "    }\n",
       "</style>\n",
       "<table border=\"1\" class=\"dataframe\">\n",
       "  <thead>\n",
       "    <tr style=\"text-align: right;\">\n",
       "      <th></th>\n",
       "      <th>subject</th>\n",
       "      <th>predicate</th>\n",
       "      <th>object</th>\n",
       "    </tr>\n",
       "  </thead>\n",
       "  <tbody>\n",
       "    <tr>\n",
       "      <th>93</th>\n",
       "      <td>9575-IWCAZ</td>\n",
       "      <td>hasChurned</td>\n",
       "      <td>False</td>\n",
       "    </tr>\n",
       "    <tr>\n",
       "      <th>162</th>\n",
       "      <td>1552-CZCLL</td>\n",
       "      <td>hasChurned</td>\n",
       "      <td>False</td>\n",
       "    </tr>\n",
       "    <tr>\n",
       "      <th>254</th>\n",
       "      <td>7036-ZZKBD</td>\n",
       "      <td>hasChurned</td>\n",
       "      <td>False</td>\n",
       "    </tr>\n",
       "    <tr>\n",
       "      <th>277</th>\n",
       "      <td>9314-QDMDW</td>\n",
       "      <td>hasChurned</td>\n",
       "      <td>False</td>\n",
       "    </tr>\n",
       "    <tr>\n",
       "      <th>622</th>\n",
       "      <td>0793-TWELN</td>\n",
       "      <td>hasChurned</td>\n",
       "      <td>False</td>\n",
       "    </tr>\n",
       "  </tbody>\n",
       "</table>\n",
       "</div>"
      ],
      "text/plain": [
       "        subject   predicate object\n",
       "93   9575-IWCAZ  hasChurned  False\n",
       "162  1552-CZCLL  hasChurned  False\n",
       "254  7036-ZZKBD  hasChurned  False\n",
       "277  9314-QDMDW  hasChurned  False\n",
       "622  0793-TWELN  hasChurned  False"
      ]
     },
     "execution_count": 28,
     "metadata": {},
     "output_type": "execute_result"
    }
   ],
   "source": [
    "testTriplesTelco.head()"
   ]
  },
  {
   "cell_type": "markdown",
   "id": "c5a12242",
   "metadata": {},
   "source": [
    "# Function for making predictions "
   ]
  },
  {
   "cell_type": "code",
   "execution_count": 29,
   "id": "c3360275",
   "metadata": {},
   "outputs": [],
   "source": [
    "\n",
    "def makePredictions(model, testData):\n",
    "    preds = []\n",
    "    for k in tqdm(range(0,len(testData))):\n",
    "                   \n",
    "        row =   testData.iloc[k]        \n",
    "                   \n",
    "        pred1 = model.predict([row[\"subject\"],row[\"predicate\"],\"True\"])[0]\n",
    "        pred2 = model.predict([row[\"subject\"],row[\"predicate\"],\"False\"])[0]\n",
    "        \n",
    "        if pred1 > pred2:\n",
    "            preds.append(\"True\")\n",
    "        else:\n",
    "             preds.append(\"False\")\n",
    "            \n",
    "    return preds\n",
    "    "
   ]
  },
  {
   "cell_type": "markdown",
   "id": "0dfb662c",
   "metadata": {},
   "source": [
    "# Testing the models\n",
    "Telco First"
   ]
  },
  {
   "cell_type": "code",
   "execution_count": 30,
   "id": "da2a5069",
   "metadata": {},
   "outputs": [
    {
     "name": "stderr",
     "output_type": "stream",
     "text": [
      "100%|██████████| 748/748 [05:07<00:00,  2.43it/s]\n"
     ]
    }
   ],
   "source": [
    "resultsTransETelco = makePredictions(transEModelTelco, testTriplesTelco)\n"
   ]
  },
  {
   "cell_type": "code",
   "execution_count": 31,
   "id": "65b7c3ed",
   "metadata": {},
   "outputs": [
    {
     "name": "stderr",
     "output_type": "stream",
     "text": [
      "100%|██████████| 748/748 [02:00<00:00,  6.20it/s]\n"
     ]
    }
   ],
   "source": [
    "resultsDistmultTelco = makePredictions(distmultModelTelco, testTriplesTelco)"
   ]
  },
  {
   "cell_type": "code",
   "execution_count": 32,
   "id": "cd168f58",
   "metadata": {},
   "outputs": [
    {
     "name": "stderr",
     "output_type": "stream",
     "text": [
      "100%|██████████| 748/748 [03:12<00:00,  3.89it/s]\n"
     ]
    }
   ],
   "source": [
    "resultsComplexTelco = makePredictions(complexModelTelco, testTriplesTelco)"
   ]
  },
  {
   "cell_type": "code",
   "execution_count": 33,
   "id": "b0c23838",
   "metadata": {},
   "outputs": [],
   "source": [
    "trueResultsTelco = testTriplesTelco[\"object\"]\n",
    "\n",
    "telcoDict = {\"transe\":resultsTransETelco,\"dis\":resultsDistmultTelco, \"complex\":resultsComplexTelco, \"true\":trueResultsTelco}\n",
    "\n",
    "telcoResults = pd.DataFrame(telcoDict)\n",
    "\n",
    "telcoResults.to_csv(\"results/telcoResults.csv\")"
   ]
  },
  {
   "cell_type": "markdown",
   "id": "f57fb960",
   "metadata": {},
   "source": [
    "Now Bank data"
   ]
  },
  {
   "cell_type": "code",
   "execution_count": 34,
   "id": "e014fe5f",
   "metadata": {},
   "outputs": [
    {
     "name": "stderr",
     "output_type": "stream",
     "text": [
      "100%|██████████| 815/815 [03:45<00:00,  3.62it/s]\n"
     ]
    }
   ],
   "source": [
    "resultsTransEBank = makePredictions(transEModelBank, testTriplesBank)"
   ]
  },
  {
   "cell_type": "code",
   "execution_count": 35,
   "id": "0f36f6e1",
   "metadata": {},
   "outputs": [
    {
     "name": "stderr",
     "output_type": "stream",
     "text": [
      "100%|██████████| 815/815 [01:45<00:00,  7.70it/s]\n"
     ]
    }
   ],
   "source": [
    "resultsDistmultBank = makePredictions(distmultModelBank, testTriplesBank)"
   ]
  },
  {
   "cell_type": "code",
   "execution_count": 36,
   "id": "456095e1",
   "metadata": {},
   "outputs": [
    {
     "name": "stderr",
     "output_type": "stream",
     "text": [
      "100%|██████████| 815/815 [02:31<00:00,  5.37it/s]\n"
     ]
    }
   ],
   "source": [
    "resultsComplexBank = makePredictions(complexModelBank, testTriplesBank)"
   ]
  },
  {
   "cell_type": "code",
   "execution_count": 37,
   "id": "3d25c6d5",
   "metadata": {},
   "outputs": [],
   "source": [
    "trueResultsBank = testTriplesBank[\"object\"]\n",
    "\n",
    "bankDict = {\"transe\":resultsTransEBank,\"dis\":resultsDistmultBank, \"complex\":resultsComplexBank, \"true\":trueResultsBank}\n",
    "\n",
    "bankResults = pd.DataFrame(bankDict)\n",
    "\n",
    "bankResults.to_csv(\"results/bankResults.csv\")"
   ]
  },
  {
   "cell_type": "markdown",
   "id": "7de9b072",
   "metadata": {},
   "source": [
    "Saving data so I can use the same split as for the baseline approaches"
   ]
  },
  {
   "cell_type": "code",
   "execution_count": null,
   "id": "3feb5c60",
   "metadata": {},
   "outputs": [],
   "source": []
  },
  {
   "cell_type": "code",
   "execution_count": 38,
   "id": "ad48d4a0",
   "metadata": {},
   "outputs": [],
   "source": [
    "X_bank_train.to_csv(\"splitData/bank/X_bank_train.csv\")\n",
    "X_bank_test.to_csv(\"splitData/bank/X_bank_test.csv\")\n",
    "\n",
    "y_bank_train.to_csv(\"splitData/bank/y_bank_train.csv\")\n",
    "y_bank_test.to_csv(\"splitData/bank/y_bank_test.csv\")"
   ]
  },
  {
   "cell_type": "code",
   "execution_count": 39,
   "id": "e248f8fb",
   "metadata": {},
   "outputs": [],
   "source": [
    "X_telco_train.to_csv(\"splitData/telco/X_telco_train.csv\")\n",
    "X_telco_test.to_csv(\"splitData/telco/X_telco_test.csv\")\n",
    "\n",
    "y_telco_train.to_csv(\"splitData/telco/y_telco_train.csv\")\n",
    "y_telco_test.to_csv(\"splitData/telco/y_telco_test.csv\")"
   ]
  },
  {
   "cell_type": "code",
   "execution_count": 2,
   "id": "0c39d3b5",
   "metadata": {},
   "outputs": [],
   "source": [
    "from ampligraph.utils import restore_model\n"
   ]
  },
  {
   "cell_type": "code",
   "execution_count": 3,
   "id": "2281224c",
   "metadata": {},
   "outputs": [],
   "source": [
    "#Loading the models again to fetch paramters\n",
    "#TransE\n",
    "transEModelBank = restore_model(model_name_path = './models/transEModelBank.pkl')\n",
    "transEModelTelco = restore_model(model_name_path = './models/transEModelTelco.pkl')\n",
    "\n",
    "#DisMult\n",
    "distmultModelBank = restore_model(model_name_path = './models/distmultModelBank.pkl')\n",
    "distmultModelTelco = restore_model(model_name_path =  './models/distmultModelTelco.pkl')\n",
    "\n",
    "#complEx\n",
    "complexModelBank = restore_model(model_name_path = './models/complexModelBank.pkl')\n",
    "complexModelTelco = restore_model(model_name_path = './models/complexModelTelco.pkl')"
   ]
  },
  {
   "cell_type": "code",
   "execution_count": 4,
   "id": "a01249a7",
   "metadata": {},
   "outputs": [
    {
     "data": {
      "text/plain": [
       "{'k': 45,\n",
       " 'eta': 20,\n",
       " 'epochs': 500,\n",
       " 'batches_count': 20,\n",
       " 'seed': 1525,\n",
       " 'embedding_model_params': {'norm': 1,\n",
       "  'normalize_ent_emb': False,\n",
       "  'negative_corruption_entities': 'all',\n",
       "  'corrupt_sides': ['s,o']},\n",
       " 'optimizer': 'adam',\n",
       " 'optimizer_params': {'lr': 0.001},\n",
       " 'loss': 'pairwise',\n",
       " 'loss_params': {},\n",
       " 'regularizer': 'LP',\n",
       " 'regularizer_params': {'p': 2, 'lambda': 1e-05},\n",
       " 'initializer': 'xavier',\n",
       " 'initializer_params': {'uniform': False},\n",
       " 'verbose': True}"
      ]
     },
     "execution_count": 4,
     "metadata": {},
     "output_type": "execute_result"
    }
   ],
   "source": [
    "transEModelBank.get_hyperparameter_dict()"
   ]
  },
  {
   "cell_type": "code",
   "execution_count": 5,
   "id": "769dd509",
   "metadata": {},
   "outputs": [
    {
     "data": {
      "text/plain": [
       "{'k': 65,\n",
       " 'eta': 20,\n",
       " 'epochs': 500,\n",
       " 'batches_count': 20,\n",
       " 'seed': 42,\n",
       " 'embedding_model_params': {'norm': 1,\n",
       "  'normalize_ent_emb': False,\n",
       "  'negative_corruption_entities': 'all',\n",
       "  'corrupt_sides': ['s,o']},\n",
       " 'optimizer': 'adam',\n",
       " 'optimizer_params': {'lr': 0.001},\n",
       " 'loss': 'pairwise',\n",
       " 'loss_params': {},\n",
       " 'regularizer': 'LP',\n",
       " 'regularizer_params': {'p': 2, 'lambda': 1e-05},\n",
       " 'initializer': 'xavier',\n",
       " 'initializer_params': {'uniform': False},\n",
       " 'verbose': True}"
      ]
     },
     "execution_count": 5,
     "metadata": {},
     "output_type": "execute_result"
    }
   ],
   "source": [
    "transEModelTelco.get_hyperparameter_dict()"
   ]
  },
  {
   "cell_type": "code",
   "execution_count": 6,
   "id": "53eef5d6",
   "metadata": {},
   "outputs": [
    {
     "data": {
      "text/plain": [
       "{'k': 12,\n",
       " 'eta': 20,\n",
       " 'epochs': 500,\n",
       " 'batches_count': 20,\n",
       " 'seed': 57,\n",
       " 'embedding_model_params': {'normalize_ent_emb': False,\n",
       "  'negative_corruption_entities': 'all',\n",
       "  'corrupt_sides': ['s,o']},\n",
       " 'optimizer': 'adam',\n",
       " 'optimizer_params': {'lr': 0.001},\n",
       " 'loss': 'pairwise',\n",
       " 'loss_params': {},\n",
       " 'regularizer': 'LP',\n",
       " 'regularizer_params': {'p': 1, 'lambda': 1e-05},\n",
       " 'initializer': 'xavier',\n",
       " 'initializer_params': {'uniform': False},\n",
       " 'verbose': True}"
      ]
     },
     "execution_count": 6,
     "metadata": {},
     "output_type": "execute_result"
    }
   ],
   "source": [
    "distmultModelBank.get_hyperparameter_dict()"
   ]
  },
  {
   "cell_type": "code",
   "execution_count": 10,
   "id": "97fa0a2c",
   "metadata": {},
   "outputs": [
    {
     "data": {
      "text/plain": [
       "{'k': 16,\n",
       " 'eta': 20,\n",
       " 'epochs': 500,\n",
       " 'batches_count': 20,\n",
       " 'seed': 475,\n",
       " 'embedding_model_params': {'normalize_ent_emb': False,\n",
       "  'negative_corruption_entities': 'all',\n",
       "  'corrupt_sides': ['s,o']},\n",
       " 'optimizer': 'adam',\n",
       " 'optimizer_params': {'lr': 0.001},\n",
       " 'loss': 'pairwise',\n",
       " 'loss_params': {},\n",
       " 'regularizer': 'LP',\n",
       " 'regularizer_params': {'p': 1, 'lambda': 1e-05},\n",
       " 'initializer': 'xavier',\n",
       " 'initializer_params': {'uniform': False},\n",
       " 'verbose': True}"
      ]
     },
     "execution_count": 10,
     "metadata": {},
     "output_type": "execute_result"
    }
   ],
   "source": [
    "distmultModelTelco.get_hyperparameter_dict()"
   ]
  },
  {
   "cell_type": "code",
   "execution_count": 8,
   "id": "6fb14b6d",
   "metadata": {},
   "outputs": [
    {
     "data": {
      "text/plain": [
       "{'k': 5,\n",
       " 'eta': 20,\n",
       " 'epochs': 500,\n",
       " 'batches_count': 20,\n",
       " 'seed': 34,\n",
       " 'embedding_model_params': {'negative_corruption_entities': 'all',\n",
       "  'corrupt_sides': ['s,o']},\n",
       " 'optimizer': 'adam',\n",
       " 'optimizer_params': {'lr': 0.001},\n",
       " 'loss': 'pairwise',\n",
       " 'loss_params': {},\n",
       " 'regularizer': 'LP',\n",
       " 'regularizer_params': {'p': 3, 'lambda': 1e-05},\n",
       " 'initializer': 'xavier',\n",
       " 'initializer_params': {'uniform': False},\n",
       " 'verbose': True}"
      ]
     },
     "execution_count": 8,
     "metadata": {},
     "output_type": "execute_result"
    }
   ],
   "source": [
    "complexModelBank.get_hyperparameter_dict()"
   ]
  },
  {
   "cell_type": "code",
   "execution_count": 9,
   "id": "452dcaa3",
   "metadata": {},
   "outputs": [
    {
     "data": {
      "text/plain": [
       "{'k': 10,\n",
       " 'eta': 20,\n",
       " 'epochs': 500,\n",
       " 'batches_count': 20,\n",
       " 'seed': 85,\n",
       " 'embedding_model_params': {'negative_corruption_entities': 'all',\n",
       "  'corrupt_sides': ['s,o']},\n",
       " 'optimizer': 'adam',\n",
       " 'optimizer_params': {'lr': 0.001},\n",
       " 'loss': 'pairwise',\n",
       " 'loss_params': {},\n",
       " 'regularizer': 'LP',\n",
       " 'regularizer_params': {'p': 3, 'lambda': 1e-05},\n",
       " 'initializer': 'xavier',\n",
       " 'initializer_params': {'uniform': False},\n",
       " 'verbose': True}"
      ]
     },
     "execution_count": 9,
     "metadata": {},
     "output_type": "execute_result"
    }
   ],
   "source": [
    "complexModelTelco.get_hyperparameter_dict()"
   ]
  },
  {
   "cell_type": "code",
   "execution_count": null,
   "id": "7b2832c7",
   "metadata": {},
   "outputs": [],
   "source": []
  }
 ],
 "metadata": {
  "kernelspec": {
   "display_name": "Python 3",
   "language": "python",
   "name": "python3"
  },
  "language_info": {
   "codemirror_mode": {
    "name": "ipython",
    "version": 3
   },
   "file_extension": ".py",
   "mimetype": "text/x-python",
   "name": "python",
   "nbconvert_exporter": "python",
   "pygments_lexer": "ipython3",
   "version": "3.7.10"
  }
 },
 "nbformat": 4,
 "nbformat_minor": 5
}
