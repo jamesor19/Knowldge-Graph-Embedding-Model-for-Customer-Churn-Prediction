{
 "cells": [
  {
   "cell_type": "code",
   "execution_count": 89,
   "id": "bf2daf22",
   "metadata": {},
   "outputs": [],
   "source": [
    "import numpy as np\n",
    "import pandas as pd\n",
    "from sklearn.metrics import f1_score\n",
    "from sklearn.metrics import recall_score\n",
    "from sklearn.metrics import precision_score\n",
    "from sklearn.metrics import confusion_matrix, ConfusionMatrixDisplay\n",
    "from sklearn.metrics import accuracy_score\n",
    "from sklearn.metrics import roc_auc_score"
   ]
  },
  {
   "cell_type": "code",
   "execution_count": 90,
   "id": "3065f4e5",
   "metadata": {},
   "outputs": [
    {
     "data": {
      "text/plain": [
       "748"
      ]
     },
     "execution_count": 90,
     "metadata": {},
     "output_type": "execute_result"
    }
   ],
   "source": [
    "bankData = pd.read_csv(\"results/bankResults.csv\",index_col = 0)\n",
    "\n",
    "telcoData = pd.read_csv(\"results/telcoResults.csv\",index_col = 0)\n",
    "\n",
    "telcoData.head()\n",
    "\n",
    "len(telcoData)\n"
   ]
  },
  {
   "cell_type": "markdown",
   "id": "a4bf289c",
   "metadata": {},
   "source": [
    "# telco data"
   ]
  },
  {
   "cell_type": "code",
   "execution_count": 105,
   "id": "2e9595de",
   "metadata": {},
   "outputs": [
    {
     "name": "stdout",
     "output_type": "stream",
     "text": [
      "0.6094708153531683\n",
      "0.5586223672161172\n",
      "0.49532212565493244\n",
      "0.5586223672161172\n"
     ]
    }
   ],
   "source": [
    "\n",
    "print(precision_score(telcoData[\"true\"], telcoData[\"transe\"],average='macro'))\n",
    "print(recall_score(telcoData[\"true\"], telcoData[\"transe\"],average='macro'))\n",
    "print(f1_score(telcoData[\"true\"], telcoData[\"transe\"],average='macro'))\n",
    "\n",
    "print(roc_auc_score(telcoData[\"true\"], telcoData[\"transe\"]))"
   ]
  },
  {
   "cell_type": "code",
   "execution_count": 92,
   "id": "45f00f20",
   "metadata": {},
   "outputs": [
    {
     "data": {
      "text/plain": [
       "<sklearn.metrics._plot.confusion_matrix.ConfusionMatrixDisplay at 0x12ce7939f88>"
      ]
     },
     "execution_count": 92,
     "metadata": {},
     "output_type": "execute_result"
    },
    {
     "data": {
      "image/png": "[encoded data removed]",
      "text/plain": [
       "<Figure size 432x288 with 2 Axes>"
      ]
     },
     "metadata": {
      "needs_background": "light"
     },
     "output_type": "display_data"
    }
   ],
   "source": [
    "\n",
    "cm = confusion_matrix(telcoData[\"true\"], telcoData[\"transe\"])\n",
    "cmd = ConfusionMatrixDisplay(cm, display_labels=['False','True'])\n",
    "cmd.plot()"
   ]
  },
  {
   "cell_type": "code",
   "execution_count": 93,
   "id": "b8b79ebf",
   "metadata": {},
   "outputs": [
    {
     "name": "stdout",
     "output_type": "stream",
     "text": [
      "micro\n",
      "0.6904431618320989\n",
      "0.6650068681318682\n",
      "0.656520324598667\n",
      "0.6650068681318682\n"
     ]
    }
   ],
   "source": [
    "\n",
    "print(\"macro\")\n",
    "print(precision_score(telcoData[\"true\"], telcoData[\"dis\"],average='macro'))\n",
    "print(recall_score(telcoData[\"true\"], telcoData[\"dis\"],average='macro'))\n",
    "print(f1_score(telcoData[\"true\"], telcoData[\"dis\"],average='macro'))\n",
    "\n",
    "print(roc_auc_score(telcoData[\"true\"], telcoData[\"dis\"]))"
   ]
  },
  {
   "cell_type": "code",
   "execution_count": 94,
   "id": "2440218c",
   "metadata": {},
   "outputs": [
    {
     "data": {
      "text/plain": [
       "<sklearn.metrics._plot.confusion_matrix.ConfusionMatrixDisplay at 0x12ce79e2b88>"
      ]
     },
     "execution_count": 94,
     "metadata": {},
     "output_type": "execute_result"
    },
    {
     "data": {
      "image/png": "[encoded data removed]",
      "text/plain": [
       "<Figure size 432x288 with 2 Axes>"
      ]
     },
     "metadata": {
      "needs_background": "light"
     },
     "output_type": "display_data"
    }
   ],
   "source": [
    "\n",
    "\n",
    "cm = confusion_matrix(telcoData[\"true\"], telcoData[\"dis\"])\n",
    "cmd = ConfusionMatrixDisplay(cm, display_labels=['False','True'])\n",
    "cmd.plot()"
   ]
  },
  {
   "cell_type": "code",
   "execution_count": 95,
   "id": "549302d9",
   "metadata": {},
   "outputs": [
    {
     "name": "stdout",
     "output_type": "stream",
     "text": [
      "0.6746361746361746\n",
      "0.5883413461538461\n",
      "0.5244755244755245\n",
      "0.5883413461538461\n"
     ]
    }
   ],
   "source": [
    "\n",
    "print(precision_score(telcoData[\"true\"], telcoData[\"complex\"],average='macro'))\n",
    "print(recall_score(telcoData[\"true\"], telcoData[\"complex\"],average='macro'))\n",
    "print(f1_score(telcoData[\"true\"], telcoData[\"complex\"],average='macro'))\n",
    "\n",
    "print(roc_auc_score(telcoData[\"true\"], telcoData[\"complex\"]))"
   ]
  },
  {
   "cell_type": "code",
   "execution_count": 96,
   "id": "6cb51e21",
   "metadata": {},
   "outputs": [
    {
     "data": {
      "text/plain": [
       "<sklearn.metrics._plot.confusion_matrix.ConfusionMatrixDisplay at 0x12ce7a858c8>"
      ]
     },
     "execution_count": 96,
     "metadata": {},
     "output_type": "execute_result"
    },
    {
     "data": {
      "image/png": "[encoded data removed]",
      "text/plain": [
       "<Figure size 432x288 with 2 Axes>"
      ]
     },
     "metadata": {
      "needs_background": "light"
     },
     "output_type": "display_data"
    }
   ],
   "source": [
    "\n",
    "\n",
    "cm = confusion_matrix(telcoData[\"true\"], telcoData[\"complex\"])\n",
    "cmd = ConfusionMatrixDisplay(cm, display_labels=['False','True'])\n",
    "cmd.plot()"
   ]
  },
  {
   "cell_type": "markdown",
   "id": "7235c574",
   "metadata": {},
   "source": [
    "#  bankData results"
   ]
  },
  {
   "cell_type": "code",
   "execution_count": 97,
   "id": "cfaa0264",
   "metadata": {},
   "outputs": [
    {
     "name": "stdout",
     "output_type": "stream",
     "text": [
      "(815, 4)\n"
     ]
    }
   ],
   "source": [
    "bankData.head()\n",
    "print(np.shape(bankData))"
   ]
  },
  {
   "cell_type": "code",
   "execution_count": 98,
   "id": "bf795acb",
   "metadata": {},
   "outputs": [
    {
     "name": "stdout",
     "output_type": "stream",
     "text": [
      "0.5025670447357194\n",
      "0.5021017006311124\n",
      "0.47833503600842514\n",
      "0.5021017006311124\n"
     ]
    }
   ],
   "source": [
    "\n",
    "\n",
    "print(precision_score(bankData[\"true\"], bankData[\"transe\"],average='macro'))\n",
    "print(recall_score(bankData[\"true\"], bankData[\"transe\"],average='macro'))\n",
    "print(f1_score(bankData[\"true\"], bankData[\"transe\"],average='macro'))\n",
    "\n",
    "print(roc_auc_score(bankData[\"true\"], bankData[\"transe\"]))"
   ]
  },
  {
   "cell_type": "code",
   "execution_count": 99,
   "id": "1c6a2c5f",
   "metadata": {},
   "outputs": [
    {
     "data": {
      "text/plain": [
       "<sklearn.metrics._plot.confusion_matrix.ConfusionMatrixDisplay at 0x12ce7b2ac48>"
      ]
     },
     "execution_count": 99,
     "metadata": {},
     "output_type": "execute_result"
    },
    {
     "data": {
      "image/png": "[encoded data removed]",
      "text/plain": [
       "<Figure size 432x288 with 2 Axes>"
      ]
     },
     "metadata": {
      "needs_background": "light"
     },
     "output_type": "display_data"
    }
   ],
   "source": [
    "\n",
    "\n",
    "cm = confusion_matrix(bankData[\"true\"], bankData[\"transe\"])\n",
    "cmd = ConfusionMatrixDisplay(cm, display_labels=['False','True'])\n",
    "cmd.plot()"
   ]
  },
  {
   "cell_type": "code",
   "execution_count": 100,
   "id": "7339443b",
   "metadata": {},
   "outputs": [
    {
     "name": "stdout",
     "output_type": "stream",
     "text": [
      "0.6914794007490637\n",
      "0.688421375921376\n",
      "0.6871183633000011\n",
      "0.688421375921376\n"
     ]
    }
   ],
   "source": [
    "\n",
    "\n",
    "print(precision_score(bankData[\"true\"], bankData[\"dis\"],average='macro'))\n",
    "print(recall_score(bankData[\"true\"], bankData[\"dis\"],average='macro'))\n",
    "print(f1_score(bankData[\"true\"], bankData[\"dis\"],average='macro'))\n",
    "\n",
    "print(roc_auc_score(bankData[\"true\"], bankData[\"dis\"]))"
   ]
  },
  {
   "cell_type": "code",
   "execution_count": 101,
   "id": "e1b97f9a",
   "metadata": {},
   "outputs": [
    {
     "data": {
      "text/plain": [
       "<sklearn.metrics._plot.confusion_matrix.ConfusionMatrixDisplay at 0x12ce7bcfb88>"
      ]
     },
     "execution_count": 101,
     "metadata": {},
     "output_type": "execute_result"
    },
    {
     "data": {
      "image/png": "[encoded data removed]",
      "text/plain": [
       "<Figure size 432x288 with 2 Axes>"
      ]
     },
     "metadata": {
      "needs_background": "light"
     },
     "output_type": "display_data"
    }
   ],
   "source": [
    "\n",
    "cm = confusion_matrix(bankData[\"true\"], bankData[\"dis\"])\n",
    "cmd = ConfusionMatrixDisplay(cm, display_labels=['False','True'])\n",
    "cmd.plot()"
   ]
  },
  {
   "cell_type": "code",
   "execution_count": 104,
   "id": "b4d1b693",
   "metadata": {},
   "outputs": [
    {
     "name": "stdout",
     "output_type": "stream",
     "text": [
      "0.7204382729442396\n",
      "0.7202630437924555\n",
      "0.7201944273788443\n",
      "0.7202630437924555\n"
     ]
    }
   ],
   "source": [
    "\n",
    "\n",
    "print(precision_score(bankData[\"true\"], bankData[\"complex\"],average='macro'))\n",
    "print(recall_score(bankData[\"true\"], bankData[\"complex\"],average='macro'))\n",
    "print(f1_score(bankData[\"true\"], bankData[\"complex\"],average='macro'))\n",
    "\n",
    "print(roc_auc_score(bankData[\"true\"], bankData[\"complex\"]))"
   ]
  },
  {
   "cell_type": "code",
   "execution_count": 103,
   "id": "1108ba2a",
   "metadata": {},
   "outputs": [
    {
     "data": {
      "text/plain": [
       "<sklearn.metrics._plot.confusion_matrix.ConfusionMatrixDisplay at 0x12ce792a1c8>"
      ]
     },
     "execution_count": 103,
     "metadata": {},
     "output_type": "execute_result"
    },
    {
     "data": {
      "image/png": "[encoded data removed]",
      "text/plain": [
       "<Figure size 432x288 with 2 Axes>"
      ]
     },
     "metadata": {
      "needs_background": "light"
     },
     "output_type": "display_data"
    }
   ],
   "source": [
    "confusion_matrix(bankData[\"true\"], bankData[\"complex\"])\n",
    "\n",
    "\n",
    "cm = confusion_matrix(bankData[\"true\"], bankData[\"complex\"])\n",
    "cmd = ConfusionMatrixDisplay(cm, display_labels=['False','True'])\n",
    "cmd.plot()"
   ]
  },
  {
   "cell_type": "code",
   "execution_count": null,
   "id": "59fc2a73",
   "metadata": {},
   "outputs": [],
   "source": []
  },
  {
   "cell_type": "code",
   "execution_count": null,
   "id": "d7704ff9",
   "metadata": {},
   "outputs": [],
   "source": []
  }
 ],
 "metadata": {
  "kernelspec": {
   "display_name": "Python 3",
   "language": "python",
   "name": "python3"
  },
  "language_info": {
   "codemirror_mode": {
    "name": "ipython",
    "version": 3
   },
   "file_extension": ".py",
   "mimetype": "text/x-python",
   "name": "python",
   "nbconvert_exporter": "python",
   "pygments_lexer": "ipython3",
   "version": "3.7.10"
  }
 },
 "nbformat": 4,
 "nbformat_minor": 5
}
