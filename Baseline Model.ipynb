{
 "cells": [
  {
   "cell_type": "markdown",
   "id": "3013403c",
   "metadata": {},
   "source": [
    "# The randomForestClassifier "
   ]
  },
  {
   "cell_type": "code",
   "execution_count": 59,
   "id": "581a6af5",
   "metadata": {},
   "outputs": [],
   "source": [
    "#Importing the needed library \n",
    "import numpy as np\n",
    "import pandas as pd\n",
    "import sklearn.metrics\n",
    "import matplotlib.pyplot as plt\n",
    "import numpy as np\n",
    "from sklearn.metrics import f1_score\n",
    "from sklearn.metrics import precision_score\n",
    "from sklearn.metrics import recall_score\n",
    "from sklearn.metrics import confusion_matrix\n",
    "from sklearn.metrics import plot_confusion_matrix\n",
    "from sklearn.metrics import roc_auc_score"
   ]
  },
  {
   "cell_type": "code",
   "execution_count": 60,
   "id": "786ae4a8",
   "metadata": {},
   "outputs": [],
   "source": [
    "#Importing my data from earlier bank first\n",
    "\n",
    "\n",
    "X_bank_train = pd.read_csv(\"splitData/bank/X_bank_train.csv\",index_col=0)\n",
    "X_bank_test = pd.read_csv(\"SplitData/bank/X_bank_test.csv\",index_col=0)\n",
    "\n",
    "y_bank_train = pd.read_csv(\"splitData/bank/Y_bank_train.csv\",index_col=0)\n",
    "y_bank_test = pd.read_csv(\"splitData/bank/Y_bank_test.csv\",index_col=0)\n",
    "\n",
    "\n",
    "del X_bank_train[\"CustomerId\"]\n",
    "del X_bank_train[\"Unnamed: 0.1\"]\n",
    "\n",
    "\n",
    "del X_bank_test[\"CustomerId\"]\n",
    "del X_bank_test[\"Unnamed: 0.1\"]\n",
    "\n"
   ]
  },
  {
   "cell_type": "code",
   "execution_count": 61,
   "id": "4d45b608",
   "metadata": {},
   "outputs": [],
   "source": [
    "X_bank_train = pd.get_dummies(X_bank_train, prefix=['Geography','Gender'])\n",
    "\n",
    "X_bank_test = pd.get_dummies(X_bank_test, prefix=['Geography','Gender'])"
   ]
  },
  {
   "cell_type": "code",
   "execution_count": 62,
   "id": "a9e0b81c",
   "metadata": {},
   "outputs": [
    {
     "data": {
      "text/plain": [
       "Zip Code               int64\n",
       "Latitude             float64\n",
       "Longitude            float64\n",
       "Gender                object\n",
       "Senior Citizen          bool\n",
       "Partner                 bool\n",
       "Dependents              bool\n",
       "Tenure Months          int64\n",
       "Phone Service           bool\n",
       "Multiple Lines        object\n",
       "Internet Service      object\n",
       "Online Security       object\n",
       "Online Backup         object\n",
       "Device Protection     object\n",
       "Tech Support          object\n",
       "Streaming TV          object\n",
       "Streaming Movies      object\n",
       "Contract              object\n",
       "Paperless Billing       bool\n",
       "Payment Method        object\n",
       "Monthly Charges      float64\n",
       "Total Charges          int32\n",
       "dtype: object"
      ]
     },
     "metadata": {},
     "output_type": "display_data"
    }
   ],
   "source": [
    "#Importing my data from earlier telco first and cleaning it up\n",
    "\n",
    "\n",
    "X_telco_train = pd.read_csv(\"splitData/telco/X_telco_train.csv\",index_col=0)\n",
    "X_telco_test = pd.read_csv(\"SplitData/telco/X_telco_test.csv\",index_col=0)\n",
    "\n",
    "y_telco_train = pd.read_csv(\"splitData/telco/Y_telco_train.csv\",index_col=0)\n",
    "y_telco_test = pd.read_csv(\"splitData/telco/Y_telco_test.csv\",index_col=0)\n",
    "\n",
    "\n",
    "del X_telco_train[\"CustomerID\"]\n",
    "del X_telco_test[\"CustomerID\"]\n",
    "\n",
    "del X_telco_train[\"City\"]\n",
    "del X_telco_test[\"City\"]\n",
    "\n",
    "\n",
    "del X_telco_train[\"Unnamed: 0.1\"]\n",
    "del X_telco_test[\"Unnamed: 0.1\"]\n",
    "\n",
    "X_telco_train[\"Total Charges\"] = X_telco_train[\"Total Charges\"].astype(str).replace('\\.\\d\\d', '', regex=True)\n",
    "X_telco_train[\"Total Charges\"] = X_telco_train[\"Total Charges\"].astype(str).replace('\\.\\d', '', regex=True)\n",
    "X_telco_train[\"Total Charges\"] = X_telco_train[\"Total Charges\"].replace(\" \", 0)\n",
    "X_telco_train[\"Total Charges\"] = X_telco_train[\"Total Charges\"].astype(int)\n",
    "\n",
    "X_telco_test[\"Total Charges\"] = X_telco_test[\"Total Charges\"].astype(str).replace('\\.\\d\\d', '', regex=True)\n",
    "X_telco_test[\"Total Charges\"] = X_telco_test[\"Total Charges\"].astype(str).replace('\\.\\d', '', regex=True)\n",
    "X_telco_test[\"Total Charges\"] = X_telco_test[\"Total Charges\"].replace(\" \", 0)\n",
    "X_telco_test[\"Total Charges\"] = X_telco_test[\"Total Charges\"].astype(int)\n",
    "\n",
    "\n",
    "\n",
    "\n",
    "\n",
    "display(X_telco_test.dtypes)"
   ]
  },
  {
   "cell_type": "code",
   "execution_count": 63,
   "id": "f3870405",
   "metadata": {},
   "outputs": [
    {
     "data": {
      "text/plain": [
       "Zip Code                                    int64\n",
       "Latitude                                  float64\n",
       "Longitude                                 float64\n",
       "Senior Citizen                               bool\n",
       "Partner                                      bool\n",
       "Dependents                                   bool\n",
       "Tenure Months                               int64\n",
       "Phone Service                                bool\n",
       "Paperless Billing                            bool\n",
       "Monthly Charges                           float64\n",
       "Total Charges                               int32\n",
       "Gender_Male                                 uint8\n",
       "Multiple Lines_No phone service             uint8\n",
       "Multiple Lines_True                         uint8\n",
       "Internet Service_False                      uint8\n",
       "Internet Service_Fiber optic                uint8\n",
       "Online Security_No internet service         uint8\n",
       "Online Security_True                        uint8\n",
       "Online Backup_No internet service           uint8\n",
       "Online Backup_True                          uint8\n",
       "Device Protection_No internet service       uint8\n",
       "Device Protection_True                      uint8\n",
       "Tech Support_No internet service            uint8\n",
       "Tech Support_True                           uint8\n",
       "Streaming TV_No internet service            uint8\n",
       "Streaming TV_True                           uint8\n",
       "Streaming Movies_No internet service        uint8\n",
       "Streaming Movies_True                       uint8\n",
       "Contract_One year                           uint8\n",
       "Contract_Two year                           uint8\n",
       "Payment Method_Credit card (automatic)      uint8\n",
       "Payment Method_Electronic check             uint8\n",
       "Payment Method_Mailed check                 uint8\n",
       "dtype: object"
      ]
     },
     "metadata": {},
     "output_type": "display_data"
    }
   ],
   "source": [
    "X_telco_train = pd.get_dummies(X_telco_train, prefix=['Gender',\"Multiple Lines\",\"Internet Service\",\"Online Security\",\n",
    "                                             \"Online Backup\",\"Device Protection\",\"Tech Support\",\"Streaming TV\",\n",
    "                                              \"Streaming Movies\",\"Contract\",\"Payment Method\"],\n",
    "                               drop_first = True)\n",
    "\n",
    "display(X_telco_train.dtypes)"
   ]
  },
  {
   "cell_type": "code",
   "execution_count": 64,
   "id": "4eafe09e",
   "metadata": {},
   "outputs": [
    {
     "data": {
      "text/plain": [
       "Zip Code                                    int64\n",
       "Latitude                                  float64\n",
       "Longitude                                 float64\n",
       "Senior Citizen                               bool\n",
       "Partner                                      bool\n",
       "Dependents                                   bool\n",
       "Tenure Months                               int64\n",
       "Phone Service                                bool\n",
       "Paperless Billing                            bool\n",
       "Monthly Charges                           float64\n",
       "Total Charges                               int32\n",
       "Gender_Male                                 uint8\n",
       "Multiple Lines_No phone service             uint8\n",
       "Multiple Lines_True                         uint8\n",
       "Internet Service_False                      uint8\n",
       "Internet Service_Fiber optic                uint8\n",
       "Online Security_No internet service         uint8\n",
       "Online Security_True                        uint8\n",
       "Online Backup_No internet service           uint8\n",
       "Online Backup_True                          uint8\n",
       "Device Protection_No internet service       uint8\n",
       "Device Protection_True                      uint8\n",
       "Tech Support_No internet service            uint8\n",
       "Tech Support_True                           uint8\n",
       "Streaming TV_No internet service            uint8\n",
       "Streaming TV_True                           uint8\n",
       "Streaming Movies_No internet service        uint8\n",
       "Streaming Movies_True                       uint8\n",
       "Contract_One year                           uint8\n",
       "Contract_Two year                           uint8\n",
       "Payment Method_Credit card (automatic)      uint8\n",
       "Payment Method_Electronic check             uint8\n",
       "Payment Method_Mailed check                 uint8\n",
       "dtype: object"
      ]
     },
     "execution_count": 64,
     "metadata": {},
     "output_type": "execute_result"
    }
   ],
   "source": [
    "X_telco_test = pd.get_dummies(X_telco_test, prefix=['Gender',\"Multiple Lines\",\"Internet Service\",\"Online Security\",\n",
    "                                             \"Online Backup\",\"Device Protection\",\"Tech Support\",\"Streaming TV\",\n",
    "                                              \"Streaming Movies\",\"Contract\",\"Payment Method\"],\n",
    "                             drop_first = True)\n",
    "\n",
    "X_telco_test.dtypes"
   ]
  },
  {
   "cell_type": "code",
   "execution_count": 65,
   "id": "cd93a8c2",
   "metadata": {},
   "outputs": [
    {
     "name": "stdout",
     "output_type": "stream",
     "text": [
      "(748, 33)\n"
     ]
    }
   ],
   "source": [
    "print(np.shape(X_telco_test))"
   ]
  },
  {
   "cell_type": "markdown",
   "id": "5d8452ce",
   "metadata": {},
   "source": [
    "# Bank forest"
   ]
  },
  {
   "cell_type": "code",
   "execution_count": 66,
   "id": "ad3b589c",
   "metadata": {},
   "outputs": [
    {
     "data": {
      "image/png": "[encoded data removed]",
      "text/plain": [
       "<Figure size 432x288 with 2 Axes>"
      ]
     },
     "metadata": {
      "needs_background": "light"
     },
     "output_type": "display_data"
    }
   ],
   "source": [
    "from sklearn.ensemble import RandomForestClassifier\n",
    "\n",
    "bankForest = RandomForestClassifier( random_state=42,min_samples_leaf=2,\n",
    "                                      class_weight = \"balanced\",n_estimators = 100,ccp_alpha = 0.0005)\n",
    "\n",
    "\n",
    "\n",
    "bankForest.fit(X_bank_train, y_bank_train[\"Exited\"])\n",
    "\n",
    "\n",
    "bankResults = list(bankForest.predict(X_bank_test))\n",
    "\n",
    "plot_confusion_matrix(bankForest, X_bank_test, y_bank_test)  \n",
    "plt.show()"
   ]
  },
  {
   "cell_type": "code",
   "execution_count": 67,
   "id": "1f2583a7",
   "metadata": {},
   "outputs": [
    {
     "name": "stdout",
     "output_type": "stream",
     "text": [
      "3259\n",
      "815\n",
      "0.7807509528634149\n",
      "0.7616707616707616\n",
      "0.7759699624530663\n",
      "0.7803451847569496\n"
     ]
    }
   ],
   "source": [
    "print(len(X_bank_train))\n",
    "print(len(X_bank_test))\n",
    "print(precision_score(y_bank_test, bankResults, average =  \"macro\"))\n",
    "print(recall_score(y_bank_test, bankResults ,  pos_label=1))\n",
    "print(f1_score(y_bank_test, bankResults ,  pos_label=1))\n",
    "print(roc_auc_score(y_bank_test, bankResults))"
   ]
  },
  {
   "cell_type": "markdown",
   "id": "341fe7ba",
   "metadata": {},
   "source": [
    "# Telco Forest"
   ]
  },
  {
   "cell_type": "code",
   "execution_count": 68,
   "id": "529d2ff8",
   "metadata": {},
   "outputs": [
    {
     "data": {
      "image/png": "[encoded data removed]",
      "text/plain": [
       "<Figure size 432x288 with 2 Axes>"
      ]
     },
     "metadata": {
      "needs_background": "light"
     },
     "output_type": "display_data"
    }
   ],
   "source": [
    "\n",
    "\n",
    "telcoForest = RandomForestClassifier(random_state=42,min_samples_leaf=2,\n",
    "                                      class_weight = \"balanced\",n_estimators = 100,ccp_alpha = 0.0005)\n",
    "\n",
    "\n",
    "\n",
    "telcoForest.fit(X_telco_train, y_telco_train[\"Churn Value\"])\n",
    "\n",
    "\n",
    "telcoResults = list(telcoForest.predict(X_telco_test))\n",
    "\n",
    "plot_confusion_matrix(telcoForest, X_telco_test, y_telco_test)  \n",
    "plt.show()"
   ]
  },
  {
   "cell_type": "code",
   "execution_count": 69,
   "id": "399bd0bb",
   "metadata": {},
   "outputs": [
    {
     "name": "stdout",
     "output_type": "stream",
     "text": [
      "2990\n",
      "748\n",
      "0.7532133676092545\n",
      "0.804945054945055\n",
      "0.7782204515272244\n",
      "0.7774725274725275\n"
     ]
    }
   ],
   "source": [
    "print(len(X_telco_train))\n",
    "print(len(X_telco_test))\n",
    "print(precision_score(y_telco_test, telcoResults,  pos_label=1))\n",
    "print(recall_score(y_telco_test, telcoResults,  pos_label=1))\n",
    "print(f1_score(y_telco_test, telcoResults,  pos_label=1))\n",
    "print(roc_auc_score(y_telco_test, telcoResults))"
   ]
  },
  {
   "cell_type": "code",
   "execution_count": 70,
   "id": "9d670bf4",
   "metadata": {},
   "outputs": [
    {
     "data": {
      "text/plain": [
       "{'bootstrap': True,\n",
       " 'ccp_alpha': 0.0005,\n",
       " 'class_weight': 'balanced',\n",
       " 'criterion': 'gini',\n",
       " 'max_depth': None,\n",
       " 'max_features': 'auto',\n",
       " 'max_leaf_nodes': None,\n",
       " 'max_samples': None,\n",
       " 'min_impurity_decrease': 0.0,\n",
       " 'min_impurity_split': None,\n",
       " 'min_samples_leaf': 2,\n",
       " 'min_samples_split': 2,\n",
       " 'min_weight_fraction_leaf': 0.0,\n",
       " 'n_estimators': 100,\n",
       " 'n_jobs': None,\n",
       " 'oob_score': False,\n",
       " 'random_state': 42,\n",
       " 'verbose': 0,\n",
       " 'warm_start': False}"
      ]
     },
     "execution_count": 70,
     "metadata": {},
     "output_type": "execute_result"
    }
   ],
   "source": [
    "telcoForest.get_params(deep = False)"
   ]
  },
  {
   "cell_type": "code",
   "execution_count": 71,
   "id": "626ed525",
   "metadata": {},
   "outputs": [
    {
     "data": {
      "text/plain": [
       "{'bootstrap': True,\n",
       " 'ccp_alpha': 0.0005,\n",
       " 'class_weight': 'balanced',\n",
       " 'criterion': 'gini',\n",
       " 'max_depth': None,\n",
       " 'max_features': 'auto',\n",
       " 'max_leaf_nodes': None,\n",
       " 'max_samples': None,\n",
       " 'min_impurity_decrease': 0.0,\n",
       " 'min_impurity_split': None,\n",
       " 'min_samples_leaf': 2,\n",
       " 'min_samples_split': 2,\n",
       " 'min_weight_fraction_leaf': 0.0,\n",
       " 'n_estimators': 100,\n",
       " 'n_jobs': None,\n",
       " 'oob_score': False,\n",
       " 'random_state': 42,\n",
       " 'verbose': 0,\n",
       " 'warm_start': False}"
      ]
     },
     "execution_count": 71,
     "metadata": {},
     "output_type": "execute_result"
    }
   ],
   "source": [
    "bankForest.get_params(deep = False)"
   ]
  },
  {
   "cell_type": "code",
   "execution_count": 72,
   "id": "c1a8acef",
   "metadata": {},
   "outputs": [
    {
     "name": "stdout",
     "output_type": "stream",
     "text": [
      "[(0.16437036350016732, 'Tenure Months'), (0.11831755209925139, 'Total Charges'), (0.08471540385066077, 'Monthly Charges'), (0.060727669515579105, 'Internet Service_Fiber optic'), (0.06066407593575906, 'Longitude'), (0.059330632830213455, 'Latitude'), (0.05850908302951983, 'Zip Code'), (0.05242110406301663, 'Contract_Two year'), (0.04176337648859389, 'Dependents'), (0.0400163051117134, 'Payment Method_Electronic check'), (0.02777213999039917, 'Contract_One year'), (0.017886699336846123, 'Tech Support_True'), (0.017557287768285003, 'Online Security_True'), (0.01492810458857558, 'Paperless Billing'), (0.013535708859338807, 'Online Backup_No internet service'), (0.013435059787988472, 'Streaming Movies_No internet service'), (0.01200500274905582, 'Device Protection_No internet service'), (0.011740042708747811, 'Internet Service_False'), (0.01169698811873648, 'Online Backup_True'), (0.011569208829601442, 'Gender_Male'), (0.01137885912436563, 'Tech Support_No internet service'), (0.011205825495261472, 'Partner'), (0.010789669198656872, 'Multiple Lines_True'), (0.010149113595250354, 'Streaming TV_No internet service'), (0.009374362057695929, 'Senior Citizen'), (0.009223102866109046, 'Device Protection_True'), (0.008350264229127309, 'Payment Method_Credit card (automatic)'), (0.00818944446647366, 'Streaming Movies_True'), (0.007920711595285169, 'Online Security_No internet service'), (0.007413892947421669, 'Streaming TV_True'), (0.006521029087294393, 'Payment Method_Mailed check'), (0.003327936147796023, 'Multiple Lines_No phone service'), (0.003193980027212907, 'Phone Service')]\n"
     ]
    }
   ],
   "source": [
    "\n",
    "importances = list(zip(telcoForest.feature_importances_, X_telco_train.columns))\n",
    "importances.sort(reverse=True)\n",
    "print(importances)"
   ]
  },
  {
   "cell_type": "code",
   "execution_count": 73,
   "id": "2001ec0f",
   "metadata": {},
   "outputs": [
    {
     "name": "stdout",
     "output_type": "stream",
     "text": [
      "[(0.2952732621550022, 'Age'), (0.15893629644066673, 'NumOfProducts'), (0.13327774577703072, 'Balance'), (0.10443437788279228, 'EstimatedSalary'), (0.10051074951017441, 'CreditScore'), (0.06250078074263656, 'Tenure'), (0.04503655669081566, 'IsActiveMember'), (0.033756399998808743, 'Geography_Germany'), (0.01632627459326525, 'Gender_Male'), (0.015043173197334095, 'Gender_Female'), (0.012821908839147463, 'HasCrCard'), (0.011759639559175299, 'Geography_France'), (0.010322834613150693, 'Geography_Spain')]\n"
     ]
    }
   ],
   "source": [
    "importances = list(zip(bankForest.feature_importances_, X_bank_train.columns))\n",
    "importances.sort(reverse=True)\n",
    "print(importances)"
   ]
  },
  {
   "cell_type": "code",
   "execution_count": null,
   "id": "17fc50b3",
   "metadata": {},
   "outputs": [],
   "source": []
  }
 ],
 "metadata": {
  "kernelspec": {
   "display_name": "Python 3",
   "language": "python",
   "name": "python3"
  },
  "language_info": {
   "codemirror_mode": {
    "name": "ipython",
    "version": 3
   },
   "file_extension": ".py",
   "mimetype": "text/x-python",
   "name": "python",
   "nbconvert_exporter": "python",
   "pygments_lexer": "ipython3",
   "version": "3.7.10"
  }
 },
 "nbformat": 4,
 "nbformat_minor": 5
}
