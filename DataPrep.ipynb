{
 "cells": [
  {
   "cell_type": "code",
   "execution_count": 1,
   "id": "marked-stations",
   "metadata": {},
   "outputs": [],
   "source": [
    "import pandas as pd\n",
    "import networkx as nx\n",
    "import numpy as np\n",
    "from matplotlib import pyplot as plt\n",
    "\n",
    "from imblearn.under_sampling import RandomUnderSampler\n",
    "underSampler = RandomUnderSampler(random_state=78,replacement=False)"
   ]
  },
  {
   "cell_type": "markdown",
   "id": "0bb1d439",
   "metadata": {},
   "source": [
    "# bank Data"
   ]
  },
  {
   "cell_type": "code",
   "execution_count": 2,
   "id": "front-founder",
   "metadata": {},
   "outputs": [],
   "source": [
    "df = pd.read_csv(\"bank.csv\")"
   ]
  },
  {
   "cell_type": "code",
   "execution_count": 3,
   "id": "adjacent-raleigh",
   "metadata": {},
   "outputs": [
    {
     "data": {
      "text/html": [
       "<div>\n",
       "<style scoped>\n",
       "    .dataframe tbody tr th:only-of-type {\n",
       "        vertical-align: middle;\n",
       "    }\n",
       "\n",
       "    .dataframe tbody tr th {\n",
       "        vertical-align: top;\n",
       "    }\n",
       "\n",
       "    .dataframe thead th {\n",
       "        text-align: right;\n",
       "    }\n",
       "</style>\n",
       "<table border=\"1\" class=\"dataframe\">\n",
       "  <thead>\n",
       "    <tr style=\"text-align: right;\">\n",
       "      <th></th>\n",
       "      <th>CustomerId</th>\n",
       "      <th>Surname</th>\n",
       "      <th>CreditScore</th>\n",
       "      <th>Geography</th>\n",
       "      <th>Gender</th>\n",
       "      <th>Age</th>\n",
       "      <th>Tenure</th>\n",
       "      <th>Balance</th>\n",
       "      <th>NumOfProducts</th>\n",
       "      <th>HasCrCard</th>\n",
       "      <th>IsActiveMember</th>\n",
       "      <th>EstimatedSalary</th>\n",
       "      <th>Exited</th>\n",
       "    </tr>\n",
       "  </thead>\n",
       "  <tbody>\n",
       "    <tr>\n",
       "      <th>0</th>\n",
       "      <td>15634602</td>\n",
       "      <td>Hargrave</td>\n",
       "      <td>619</td>\n",
       "      <td>France</td>\n",
       "      <td>Female</td>\n",
       "      <td>42</td>\n",
       "      <td>2</td>\n",
       "      <td>0.00</td>\n",
       "      <td>1</td>\n",
       "      <td>1</td>\n",
       "      <td>1</td>\n",
       "      <td>101348.88</td>\n",
       "      <td>1</td>\n",
       "    </tr>\n",
       "    <tr>\n",
       "      <th>1</th>\n",
       "      <td>15647311</td>\n",
       "      <td>Hill</td>\n",
       "      <td>608</td>\n",
       "      <td>Spain</td>\n",
       "      <td>Female</td>\n",
       "      <td>41</td>\n",
       "      <td>1</td>\n",
       "      <td>83807.86</td>\n",
       "      <td>1</td>\n",
       "      <td>0</td>\n",
       "      <td>1</td>\n",
       "      <td>112542.58</td>\n",
       "      <td>0</td>\n",
       "    </tr>\n",
       "    <tr>\n",
       "      <th>2</th>\n",
       "      <td>15619304</td>\n",
       "      <td>Onio</td>\n",
       "      <td>502</td>\n",
       "      <td>France</td>\n",
       "      <td>Female</td>\n",
       "      <td>42</td>\n",
       "      <td>8</td>\n",
       "      <td>159660.80</td>\n",
       "      <td>3</td>\n",
       "      <td>1</td>\n",
       "      <td>0</td>\n",
       "      <td>113931.57</td>\n",
       "      <td>1</td>\n",
       "    </tr>\n",
       "    <tr>\n",
       "      <th>3</th>\n",
       "      <td>15701354</td>\n",
       "      <td>Boni</td>\n",
       "      <td>699</td>\n",
       "      <td>France</td>\n",
       "      <td>Female</td>\n",
       "      <td>39</td>\n",
       "      <td>1</td>\n",
       "      <td>0.00</td>\n",
       "      <td>2</td>\n",
       "      <td>0</td>\n",
       "      <td>0</td>\n",
       "      <td>93826.63</td>\n",
       "      <td>0</td>\n",
       "    </tr>\n",
       "    <tr>\n",
       "      <th>4</th>\n",
       "      <td>15737888</td>\n",
       "      <td>Mitchell</td>\n",
       "      <td>850</td>\n",
       "      <td>Spain</td>\n",
       "      <td>Female</td>\n",
       "      <td>43</td>\n",
       "      <td>2</td>\n",
       "      <td>125510.82</td>\n",
       "      <td>1</td>\n",
       "      <td>1</td>\n",
       "      <td>1</td>\n",
       "      <td>79084.10</td>\n",
       "      <td>0</td>\n",
       "    </tr>\n",
       "  </tbody>\n",
       "</table>\n",
       "</div>"
      ],
      "text/plain": [
       "   CustomerId   Surname  CreditScore Geography  Gender  Age  Tenure  \\\n",
       "0    15634602  Hargrave          619    France  Female   42       2   \n",
       "1    15647311      Hill          608     Spain  Female   41       1   \n",
       "2    15619304      Onio          502    France  Female   42       8   \n",
       "3    15701354      Boni          699    France  Female   39       1   \n",
       "4    15737888  Mitchell          850     Spain  Female   43       2   \n",
       "\n",
       "     Balance  NumOfProducts  HasCrCard  IsActiveMember  EstimatedSalary  \\\n",
       "0       0.00              1          1               1        101348.88   \n",
       "1   83807.86              1          0               1        112542.58   \n",
       "2  159660.80              3          1               0        113931.57   \n",
       "3       0.00              2          0               0         93826.63   \n",
       "4  125510.82              1          1               1         79084.10   \n",
       "\n",
       "   Exited  \n",
       "0       1  \n",
       "1       0  \n",
       "2       1  \n",
       "3       0  \n",
       "4       0  "
      ]
     },
     "execution_count": 3,
     "metadata": {},
     "output_type": "execute_result"
    }
   ],
   "source": [
    "df.head()"
   ]
  },
  {
   "cell_type": "code",
   "execution_count": 4,
   "id": "fatty-arena",
   "metadata": {},
   "outputs": [],
   "source": [
    "\n",
    "\n",
    "df[\"HasCrCard\"] = df.HasCrCard.astype('bool')\n",
    "df[\"IsActiveMember\"] = df.IsActiveMember.astype('bool')\n",
    "\n",
    "df[\"Exited\"] = df.Exited.astype('bool')"
   ]
  },
  {
   "cell_type": "code",
   "execution_count": 5,
   "id": "breeding-mother",
   "metadata": {},
   "outputs": [],
   "source": [
    "del df[\"Surname\"]"
   ]
  },
  {
   "cell_type": "code",
   "execution_count": 6,
   "id": "adult-christopher",
   "metadata": {},
   "outputs": [
    {
     "data": {
      "text/html": [
       "<div>\n",
       "<style scoped>\n",
       "    .dataframe tbody tr th:only-of-type {\n",
       "        vertical-align: middle;\n",
       "    }\n",
       "\n",
       "    .dataframe tbody tr th {\n",
       "        vertical-align: top;\n",
       "    }\n",
       "\n",
       "    .dataframe thead th {\n",
       "        text-align: right;\n",
       "    }\n",
       "</style>\n",
       "<table border=\"1\" class=\"dataframe\">\n",
       "  <thead>\n",
       "    <tr style=\"text-align: right;\">\n",
       "      <th></th>\n",
       "      <th>CustomerId</th>\n",
       "      <th>CreditScore</th>\n",
       "      <th>Geography</th>\n",
       "      <th>Gender</th>\n",
       "      <th>Age</th>\n",
       "      <th>Tenure</th>\n",
       "      <th>Balance</th>\n",
       "      <th>NumOfProducts</th>\n",
       "      <th>HasCrCard</th>\n",
       "      <th>IsActiveMember</th>\n",
       "      <th>EstimatedSalary</th>\n",
       "      <th>Exited</th>\n",
       "    </tr>\n",
       "  </thead>\n",
       "  <tbody>\n",
       "    <tr>\n",
       "      <th>0</th>\n",
       "      <td>15634602</td>\n",
       "      <td>619</td>\n",
       "      <td>France</td>\n",
       "      <td>Female</td>\n",
       "      <td>42</td>\n",
       "      <td>2</td>\n",
       "      <td>0.00</td>\n",
       "      <td>1</td>\n",
       "      <td>True</td>\n",
       "      <td>True</td>\n",
       "      <td>101348.88</td>\n",
       "      <td>True</td>\n",
       "    </tr>\n",
       "    <tr>\n",
       "      <th>1</th>\n",
       "      <td>15647311</td>\n",
       "      <td>608</td>\n",
       "      <td>Spain</td>\n",
       "      <td>Female</td>\n",
       "      <td>41</td>\n",
       "      <td>1</td>\n",
       "      <td>83807.86</td>\n",
       "      <td>1</td>\n",
       "      <td>False</td>\n",
       "      <td>True</td>\n",
       "      <td>112542.58</td>\n",
       "      <td>False</td>\n",
       "    </tr>\n",
       "    <tr>\n",
       "      <th>2</th>\n",
       "      <td>15619304</td>\n",
       "      <td>502</td>\n",
       "      <td>France</td>\n",
       "      <td>Female</td>\n",
       "      <td>42</td>\n",
       "      <td>8</td>\n",
       "      <td>159660.80</td>\n",
       "      <td>3</td>\n",
       "      <td>True</td>\n",
       "      <td>False</td>\n",
       "      <td>113931.57</td>\n",
       "      <td>True</td>\n",
       "    </tr>\n",
       "    <tr>\n",
       "      <th>3</th>\n",
       "      <td>15701354</td>\n",
       "      <td>699</td>\n",
       "      <td>France</td>\n",
       "      <td>Female</td>\n",
       "      <td>39</td>\n",
       "      <td>1</td>\n",
       "      <td>0.00</td>\n",
       "      <td>2</td>\n",
       "      <td>False</td>\n",
       "      <td>False</td>\n",
       "      <td>93826.63</td>\n",
       "      <td>False</td>\n",
       "    </tr>\n",
       "    <tr>\n",
       "      <th>4</th>\n",
       "      <td>15737888</td>\n",
       "      <td>850</td>\n",
       "      <td>Spain</td>\n",
       "      <td>Female</td>\n",
       "      <td>43</td>\n",
       "      <td>2</td>\n",
       "      <td>125510.82</td>\n",
       "      <td>1</td>\n",
       "      <td>True</td>\n",
       "      <td>True</td>\n",
       "      <td>79084.10</td>\n",
       "      <td>False</td>\n",
       "    </tr>\n",
       "  </tbody>\n",
       "</table>\n",
       "</div>"
      ],
      "text/plain": [
       "   CustomerId  CreditScore Geography  Gender  Age  Tenure    Balance  \\\n",
       "0    15634602          619    France  Female   42       2       0.00   \n",
       "1    15647311          608     Spain  Female   41       1   83807.86   \n",
       "2    15619304          502    France  Female   42       8  159660.80   \n",
       "3    15701354          699    France  Female   39       1       0.00   \n",
       "4    15737888          850     Spain  Female   43       2  125510.82   \n",
       "\n",
       "   NumOfProducts  HasCrCard  IsActiveMember  EstimatedSalary  Exited  \n",
       "0              1       True            True        101348.88    True  \n",
       "1              1      False            True        112542.58   False  \n",
       "2              3       True           False        113931.57    True  \n",
       "3              2      False           False         93826.63   False  \n",
       "4              1       True            True         79084.10   False  "
      ]
     },
     "execution_count": 6,
     "metadata": {},
     "output_type": "execute_result"
    }
   ],
   "source": [
    "df.head()"
   ]
  },
  {
   "cell_type": "code",
   "execution_count": 7,
   "id": "f2ad78de",
   "metadata": {},
   "outputs": [
    {
     "data": {
      "text/plain": [
       "Index(['CustomerId', 'CreditScore', 'Geography', 'Gender', 'Age', 'Tenure',\n",
       "       'Balance', 'NumOfProducts', 'HasCrCard', 'IsActiveMember',\n",
       "       'EstimatedSalary', 'Exited'],\n",
       "      dtype='object')"
      ]
     },
     "execution_count": 7,
     "metadata": {},
     "output_type": "execute_result"
    }
   ],
   "source": [
    "df.columns"
   ]
  },
  {
   "cell_type": "code",
   "execution_count": 8,
   "id": "ce28d9dc",
   "metadata": {},
   "outputs": [
    {
     "data": {
      "text/plain": [
       "False    7963\n",
       "True     2037\n",
       "Name: Exited, dtype: int64"
      ]
     },
     "execution_count": 8,
     "metadata": {},
     "output_type": "execute_result"
    }
   ],
   "source": [
    "df['Exited'].value_counts()"
   ]
  },
  {
   "cell_type": "code",
   "execution_count": 9,
   "id": "4322c1ab",
   "metadata": {},
   "outputs": [
    {
     "data": {
      "text/plain": [
       "False    2037\n",
       "True     2037\n",
       "Name: Exited, dtype: int64"
      ]
     },
     "execution_count": 9,
     "metadata": {},
     "output_type": "execute_result"
    }
   ],
   "source": [
    "bank_x = df.loc[:, df.columns != 'Exited']\n",
    "\n",
    "bank_y = df[\"Exited\"]\n",
    "\n",
    "bank_x_under, bank_y_under = underSampler.fit_resample(bank_x, bank_y)\n",
    "\n",
    "df = bank_x_under\n",
    "\n",
    "df[\"Exited\"] = bank_y_under\n",
    "\n",
    "df['Exited'].value_counts()\n",
    "\n"
   ]
  },
  {
   "cell_type": "code",
   "execution_count": 10,
   "id": "identified-anderson",
   "metadata": {},
   "outputs": [],
   "source": [
    "triples = []\n",
    "\n",
    "for _, row in df.iterrows():\n",
    "    \n",
    "    credit = (row[\"CustomerId\"], \"hasCreditScoreOf\", row[\"CreditScore\"])\n",
    "    gender = (row[\"CustomerId\"], \"hasGender\", row[\"Gender\"])\n",
    "    age = (row[\"CustomerId\"], \"isAge\", row[\"Age\"])\n",
    "    \n",
    "    country = (row[\"CustomerId\"], \"inCountry\", row[\"Geography\"])\n",
    "    bal = (row[\"CustomerId\"], \"hasBalance\", row[\"Balance\"])\n",
    "    \n",
    "    prods = (row[\"CustomerId\"], \"hasNumberOfProducts\", row[\"NumOfProducts\"])\n",
    "    \n",
    "    card = (row[\"CustomerId\"], \"hasCreditCard\", row[\"HasCrCard\"])\n",
    "    active = (row[\"CustomerId\"], \"IsActiveMember\", row[\"IsActiveMember\"])\n",
    "    churn = (row[\"CustomerId\"], \"hasChurned\", row[\"Exited\"])\n",
    "    \n",
    "    tenure = (row[\"CustomerId\"], \"TenureOf\", row[\"Tenure\"])\n",
    "    \n",
    "    salary = (row[\"CustomerId\"], \"hasEstimatedSalaryOf\", row[\"EstimatedSalary\"])\n",
    "    \n",
    "    \n",
    "    triples.extend((credit, gender,age, country,bal,prods,card,active,churn,tenure, salary))\n",
    "    \n",
    "    "
   ]
  },
  {
   "cell_type": "code",
   "execution_count": 11,
   "id": "experienced-dream",
   "metadata": {},
   "outputs": [],
   "source": [
    "triples_df = pd.DataFrame(triples, columns=[\"subject\", \"predicate\", \"object\"])"
   ]
  },
  {
   "cell_type": "code",
   "execution_count": 12,
   "id": "invisible-danish",
   "metadata": {},
   "outputs": [
    {
     "data": {
      "text/html": [
       "<div>\n",
       "<style scoped>\n",
       "    .dataframe tbody tr th:only-of-type {\n",
       "        vertical-align: middle;\n",
       "    }\n",
       "\n",
       "    .dataframe tbody tr th {\n",
       "        vertical-align: top;\n",
       "    }\n",
       "\n",
       "    .dataframe thead th {\n",
       "        text-align: right;\n",
       "    }\n",
       "</style>\n",
       "<table border=\"1\" class=\"dataframe\">\n",
       "  <thead>\n",
       "    <tr style=\"text-align: right;\">\n",
       "      <th></th>\n",
       "      <th>subject</th>\n",
       "      <th>predicate</th>\n",
       "      <th>object</th>\n",
       "    </tr>\n",
       "  </thead>\n",
       "  <tbody>\n",
       "    <tr>\n",
       "      <th>22407</th>\n",
       "      <td>15634602</td>\n",
       "      <td>hasCreditScoreOf</td>\n",
       "      <td>619</td>\n",
       "    </tr>\n",
       "    <tr>\n",
       "      <th>22408</th>\n",
       "      <td>15634602</td>\n",
       "      <td>hasGender</td>\n",
       "      <td>Female</td>\n",
       "    </tr>\n",
       "    <tr>\n",
       "      <th>22409</th>\n",
       "      <td>15634602</td>\n",
       "      <td>isAge</td>\n",
       "      <td>42</td>\n",
       "    </tr>\n",
       "    <tr>\n",
       "      <th>22410</th>\n",
       "      <td>15634602</td>\n",
       "      <td>inCountry</td>\n",
       "      <td>France</td>\n",
       "    </tr>\n",
       "    <tr>\n",
       "      <th>22411</th>\n",
       "      <td>15634602</td>\n",
       "      <td>hasBalance</td>\n",
       "      <td>0.0</td>\n",
       "    </tr>\n",
       "    <tr>\n",
       "      <th>22412</th>\n",
       "      <td>15634602</td>\n",
       "      <td>hasNumberOfProducts</td>\n",
       "      <td>1</td>\n",
       "    </tr>\n",
       "    <tr>\n",
       "      <th>22413</th>\n",
       "      <td>15634602</td>\n",
       "      <td>hasCreditCard</td>\n",
       "      <td>True</td>\n",
       "    </tr>\n",
       "    <tr>\n",
       "      <th>22414</th>\n",
       "      <td>15634602</td>\n",
       "      <td>IsActiveMember</td>\n",
       "      <td>True</td>\n",
       "    </tr>\n",
       "    <tr>\n",
       "      <th>22415</th>\n",
       "      <td>15634602</td>\n",
       "      <td>hasChurned</td>\n",
       "      <td>True</td>\n",
       "    </tr>\n",
       "    <tr>\n",
       "      <th>22416</th>\n",
       "      <td>15634602</td>\n",
       "      <td>TenureOf</td>\n",
       "      <td>2</td>\n",
       "    </tr>\n",
       "    <tr>\n",
       "      <th>22417</th>\n",
       "      <td>15634602</td>\n",
       "      <td>hasEstimatedSalaryOf</td>\n",
       "      <td>101348.88</td>\n",
       "    </tr>\n",
       "  </tbody>\n",
       "</table>\n",
       "</div>"
      ],
      "text/plain": [
       "        subject             predicate     object\n",
       "22407  15634602      hasCreditScoreOf        619\n",
       "22408  15634602             hasGender     Female\n",
       "22409  15634602                 isAge         42\n",
       "22410  15634602             inCountry     France\n",
       "22411  15634602            hasBalance        0.0\n",
       "22412  15634602   hasNumberOfProducts          1\n",
       "22413  15634602         hasCreditCard       True\n",
       "22414  15634602        IsActiveMember       True\n",
       "22415  15634602            hasChurned       True\n",
       "22416  15634602              TenureOf          2\n",
       "22417  15634602  hasEstimatedSalaryOf  101348.88"
      ]
     },
     "execution_count": 12,
     "metadata": {},
     "output_type": "execute_result"
    }
   ],
   "source": [
    "triples_df[(triples_df.subject==15634602)]"
   ]
  },
  {
   "cell_type": "code",
   "execution_count": 13,
   "id": "e2eab05d",
   "metadata": {},
   "outputs": [
    {
     "data": {
      "image/png": "[encoded data removed]",
      "text/plain": [
       "<Figure size 432x288 with 1 Axes>"
      ]
     },
     "metadata": {},
     "output_type": "display_data"
    },
    {
     "data": {
      "text/plain": [
       "<Figure size 432x288 with 0 Axes>"
      ]
     },
     "metadata": {},
     "output_type": "display_data"
    }
   ],
   "source": [
    "bankGraph = nx.DiGraph()\n",
    "\n",
    "bankGraph.add_edges_from([(\"15634602\",\"619\"),\n",
    "                          (\"15634602\",\"Female\"),\n",
    "                         (\"15634602\",\"42\"),\n",
    "                         (\"15634602\",\"France\"),\n",
    "                         (\"15634602\",\"0.0\"),\n",
    "                         (\"15634602\",\"1\"),\n",
    "                         (\"15634602\",\"True  \"),\n",
    "                         (\"15634602\",\"True \"),\n",
    "                         (\"15634602\",\"True\"),\n",
    "                         (\"15634602\",\"2\"),\n",
    "                         (\"15634602\",\"101348.88\")]\n",
    "                         )\n",
    "\n",
    "\n",
    "\n",
    "\n",
    "\n",
    "pos = nx.spring_layout(bankGraph)\n",
    "plt.figure()    \n",
    "nx.draw(bankGraph,pos,edge_color='black',width=0.4,linewidths=0.5,\\\n",
    "node_size=200,node_color='white',alpha=1,\\\n",
    "labels={node:node for node in bankGraph.nodes()})\n",
    "nx.draw_networkx_edge_labels(bankGraph,pos,font_size = 9,edge_labels={\n",
    "    (\"15634602\",\"619\"):'CreditScoreOf',\n",
    "    (\"15634602\",\"Female\"):'hasGender',\n",
    "    (\"15634602\",\"42\"):'isAge',\n",
    "    (\"15634602\",\"France\"):'inCountry',\n",
    "    (\"15634602\",\"0.0\"):'hasBalance',\n",
    "    (\"15634602\",\"1\"):'NumberOfProducts',\n",
    "    (\"15634602\",\"True  \"):\"hasCreditCard\",\n",
    "    (\"15634602\",\"True \"):\"hasChurned\",\n",
    "    (\"15634602\",\"True\"):\"IsActiveMember\",\n",
    "    (\"15634602\",\"2\"):'TenureOf',\n",
    "    (\"15634602\",\"101348.88\"):'EstimatedSalaryOf'},\n",
    "    font_color='red')\n",
    "plt.axis('off')\n",
    "plt.show()\n",
    "plt.draw()"
   ]
  },
  {
   "cell_type": "code",
   "execution_count": 14,
   "id": "available-waterproof",
   "metadata": {},
   "outputs": [],
   "source": [
    "triples_df.to_csv(\"BankTriples.csv\")\n",
    "\n",
    "df.to_csv(\"bank_prepped.csv\")"
   ]
  },
  {
   "cell_type": "markdown",
   "id": "3b3c2c37",
   "metadata": {},
   "source": [
    "# Telco Data"
   ]
  },
  {
   "cell_type": "code",
   "execution_count": 15,
   "id": "finnish-kennedy",
   "metadata": {},
   "outputs": [],
   "source": [
    "df = pd.read_csv(\"Telco_customer_churn.csv\")"
   ]
  },
  {
   "cell_type": "code",
   "execution_count": 16,
   "id": "elder-ancient",
   "metadata": {},
   "outputs": [
    {
     "data": {
      "text/html": [
       "<div>\n",
       "<style scoped>\n",
       "    .dataframe tbody tr th:only-of-type {\n",
       "        vertical-align: middle;\n",
       "    }\n",
       "\n",
       "    .dataframe tbody tr th {\n",
       "        vertical-align: top;\n",
       "    }\n",
       "\n",
       "    .dataframe thead th {\n",
       "        text-align: right;\n",
       "    }\n",
       "</style>\n",
       "<table border=\"1\" class=\"dataframe\">\n",
       "  <thead>\n",
       "    <tr style=\"text-align: right;\">\n",
       "      <th></th>\n",
       "      <th>CustomerID</th>\n",
       "      <th>City</th>\n",
       "      <th>Zip Code</th>\n",
       "      <th>Latitude</th>\n",
       "      <th>Longitude</th>\n",
       "      <th>Gender</th>\n",
       "      <th>Senior Citizen</th>\n",
       "      <th>Partner</th>\n",
       "      <th>Dependents</th>\n",
       "      <th>Tenure Months</th>\n",
       "      <th>...</th>\n",
       "      <th>Device Protection</th>\n",
       "      <th>Tech Support</th>\n",
       "      <th>Streaming TV</th>\n",
       "      <th>Streaming Movies</th>\n",
       "      <th>Contract</th>\n",
       "      <th>Paperless Billing</th>\n",
       "      <th>Payment Method</th>\n",
       "      <th>Monthly Charges</th>\n",
       "      <th>Total Charges</th>\n",
       "      <th>Churn Value</th>\n",
       "    </tr>\n",
       "  </thead>\n",
       "  <tbody>\n",
       "    <tr>\n",
       "      <th>0</th>\n",
       "      <td>3668-QPYBK</td>\n",
       "      <td>Los Angeles</td>\n",
       "      <td>90003</td>\n",
       "      <td>33.964131</td>\n",
       "      <td>-118.272783</td>\n",
       "      <td>Male</td>\n",
       "      <td>No</td>\n",
       "      <td>No</td>\n",
       "      <td>No</td>\n",
       "      <td>2</td>\n",
       "      <td>...</td>\n",
       "      <td>No</td>\n",
       "      <td>No</td>\n",
       "      <td>No</td>\n",
       "      <td>No</td>\n",
       "      <td>Month-to-month</td>\n",
       "      <td>Yes</td>\n",
       "      <td>Mailed check</td>\n",
       "      <td>53.85</td>\n",
       "      <td>108.15</td>\n",
       "      <td>1</td>\n",
       "    </tr>\n",
       "    <tr>\n",
       "      <th>1</th>\n",
       "      <td>9237-HQITU</td>\n",
       "      <td>Los Angeles</td>\n",
       "      <td>90005</td>\n",
       "      <td>34.059281</td>\n",
       "      <td>-118.307420</td>\n",
       "      <td>Female</td>\n",
       "      <td>No</td>\n",
       "      <td>No</td>\n",
       "      <td>Yes</td>\n",
       "      <td>2</td>\n",
       "      <td>...</td>\n",
       "      <td>No</td>\n",
       "      <td>No</td>\n",
       "      <td>No</td>\n",
       "      <td>No</td>\n",
       "      <td>Month-to-month</td>\n",
       "      <td>Yes</td>\n",
       "      <td>Electronic check</td>\n",
       "      <td>70.70</td>\n",
       "      <td>151.65</td>\n",
       "      <td>1</td>\n",
       "    </tr>\n",
       "    <tr>\n",
       "      <th>2</th>\n",
       "      <td>9305-CDSKC</td>\n",
       "      <td>Los Angeles</td>\n",
       "      <td>90006</td>\n",
       "      <td>34.048013</td>\n",
       "      <td>-118.293953</td>\n",
       "      <td>Female</td>\n",
       "      <td>No</td>\n",
       "      <td>No</td>\n",
       "      <td>Yes</td>\n",
       "      <td>8</td>\n",
       "      <td>...</td>\n",
       "      <td>Yes</td>\n",
       "      <td>No</td>\n",
       "      <td>Yes</td>\n",
       "      <td>Yes</td>\n",
       "      <td>Month-to-month</td>\n",
       "      <td>Yes</td>\n",
       "      <td>Electronic check</td>\n",
       "      <td>99.65</td>\n",
       "      <td>820.5</td>\n",
       "      <td>1</td>\n",
       "    </tr>\n",
       "    <tr>\n",
       "      <th>3</th>\n",
       "      <td>7892-POOKP</td>\n",
       "      <td>Los Angeles</td>\n",
       "      <td>90010</td>\n",
       "      <td>34.062125</td>\n",
       "      <td>-118.315709</td>\n",
       "      <td>Female</td>\n",
       "      <td>No</td>\n",
       "      <td>Yes</td>\n",
       "      <td>Yes</td>\n",
       "      <td>28</td>\n",
       "      <td>...</td>\n",
       "      <td>Yes</td>\n",
       "      <td>Yes</td>\n",
       "      <td>Yes</td>\n",
       "      <td>Yes</td>\n",
       "      <td>Month-to-month</td>\n",
       "      <td>Yes</td>\n",
       "      <td>Electronic check</td>\n",
       "      <td>104.80</td>\n",
       "      <td>3046.05</td>\n",
       "      <td>1</td>\n",
       "    </tr>\n",
       "    <tr>\n",
       "      <th>4</th>\n",
       "      <td>0280-XJGEX</td>\n",
       "      <td>Los Angeles</td>\n",
       "      <td>90015</td>\n",
       "      <td>34.039224</td>\n",
       "      <td>-118.266293</td>\n",
       "      <td>Male</td>\n",
       "      <td>No</td>\n",
       "      <td>No</td>\n",
       "      <td>Yes</td>\n",
       "      <td>49</td>\n",
       "      <td>...</td>\n",
       "      <td>Yes</td>\n",
       "      <td>No</td>\n",
       "      <td>Yes</td>\n",
       "      <td>Yes</td>\n",
       "      <td>Month-to-month</td>\n",
       "      <td>Yes</td>\n",
       "      <td>Bank transfer (automatic)</td>\n",
       "      <td>103.70</td>\n",
       "      <td>5036.3</td>\n",
       "      <td>1</td>\n",
       "    </tr>\n",
       "  </tbody>\n",
       "</table>\n",
       "<p>5 rows × 25 columns</p>\n",
       "</div>"
      ],
      "text/plain": [
       "   CustomerID         City  Zip Code   Latitude   Longitude  Gender  \\\n",
       "0  3668-QPYBK  Los Angeles     90003  33.964131 -118.272783    Male   \n",
       "1  9237-HQITU  Los Angeles     90005  34.059281 -118.307420  Female   \n",
       "2  9305-CDSKC  Los Angeles     90006  34.048013 -118.293953  Female   \n",
       "3  7892-POOKP  Los Angeles     90010  34.062125 -118.315709  Female   \n",
       "4  0280-XJGEX  Los Angeles     90015  34.039224 -118.266293    Male   \n",
       "\n",
       "  Senior Citizen Partner Dependents  Tenure Months  ... Device Protection  \\\n",
       "0             No      No         No              2  ...                No   \n",
       "1             No      No        Yes              2  ...                No   \n",
       "2             No      No        Yes              8  ...               Yes   \n",
       "3             No     Yes        Yes             28  ...               Yes   \n",
       "4             No      No        Yes             49  ...               Yes   \n",
       "\n",
       "  Tech Support Streaming TV Streaming Movies        Contract  \\\n",
       "0           No           No               No  Month-to-month   \n",
       "1           No           No               No  Month-to-month   \n",
       "2           No          Yes              Yes  Month-to-month   \n",
       "3          Yes          Yes              Yes  Month-to-month   \n",
       "4           No          Yes              Yes  Month-to-month   \n",
       "\n",
       "  Paperless Billing             Payment Method Monthly Charges Total Charges  \\\n",
       "0               Yes               Mailed check           53.85        108.15   \n",
       "1               Yes           Electronic check           70.70        151.65   \n",
       "2               Yes           Electronic check           99.65         820.5   \n",
       "3               Yes           Electronic check          104.80       3046.05   \n",
       "4               Yes  Bank transfer (automatic)          103.70        5036.3   \n",
       "\n",
       "  Churn Value  \n",
       "0           1  \n",
       "1           1  \n",
       "2           1  \n",
       "3           1  \n",
       "4           1  \n",
       "\n",
       "[5 rows x 25 columns]"
      ]
     },
     "execution_count": 16,
     "metadata": {},
     "output_type": "execute_result"
    }
   ],
   "source": [
    "df.head()"
   ]
  },
  {
   "cell_type": "code",
   "execution_count": 17,
   "id": "restricted-explanation",
   "metadata": {},
   "outputs": [],
   "source": [
    "\n",
    "\n",
    "df[\"Churn Value\"] = df[\"Churn Value\"].astype('bool')\n",
    "\n",
    "\n",
    "                          "
   ]
  },
  {
   "cell_type": "code",
   "execution_count": 18,
   "id": "embedded-rolling",
   "metadata": {},
   "outputs": [],
   "source": [
    "df = df.replace({'No': False, 'Yes': True})"
   ]
  },
  {
   "cell_type": "code",
   "execution_count": 19,
   "id": "f70f0c62",
   "metadata": {},
   "outputs": [
    {
     "data": {
      "text/plain": [
       "False    5174\n",
       "True     1869\n",
       "Name: Churn Value, dtype: int64"
      ]
     },
     "execution_count": 19,
     "metadata": {},
     "output_type": "execute_result"
    }
   ],
   "source": [
    "df['Churn Value'].value_counts()"
   ]
  },
  {
   "cell_type": "code",
   "execution_count": 20,
   "id": "normal-warrant",
   "metadata": {},
   "outputs": [
    {
     "data": {
      "text/plain": [
       "False    1869\n",
       "True     1869\n",
       "Name: Churn Value, dtype: int64"
      ]
     },
     "execution_count": 20,
     "metadata": {},
     "output_type": "execute_result"
    }
   ],
   "source": [
    "telco_x = df.loc[:, df.columns != 'Churn Value']\n",
    "\n",
    "telco_y = df[\"Churn Value\"]\n",
    "\n",
    "telco_x_under, telco_y_under = underSampler.fit_resample(telco_x, telco_y)\n",
    "\n",
    "df = telco_x_under\n",
    "\n",
    "df[\"Churn Value\"] = telco_y_under\n",
    "\n",
    "df['Churn Value'].value_counts()"
   ]
  },
  {
   "cell_type": "code",
   "execution_count": 21,
   "id": "advisory-magnitude",
   "metadata": {},
   "outputs": [],
   "source": [
    "triples = []\n",
    "\n",
    "for _, row in df.iterrows():\n",
    "    \n",
    "    zipcode = (row[\"CustomerID\"],\"hasZipCode\", row[\"Zip Code\"])\n",
    "    gender = (row[\"CustomerID\"], \"hasGender\", row[\"Gender\"])\n",
    "    \n",
    "    lat = (row[\"CustomerID\"], \"hasLatitude\", row[\"Latitude\"])\n",
    "    long = (row[\"CustomerID\"], \"hasLongitude\", row[\"Longitude\"])\n",
    "    \n",
    "    #city = (row[\"CustomerID\"], \"inCity\", row[\"City\"])\n",
    "    \n",
    "    senior = (row[\"CustomerID\"], \"SeniorCitizen\", row[\"Senior Citizen\"])\n",
    "    partner = (row[\"CustomerID\"], \"hasPartner\", row[\"Partner\"])\n",
    "    \n",
    "    kids = (row[\"CustomerID\"], \"hasDependents\", row[\"Dependents\"])\n",
    "    \n",
    "    Tenure = (row[\"CustomerID\"], \"hasTenure\", row[\"Tenure Months\"])\n",
    "    \n",
    "    phone = (row[\"CustomerID\"], \"hasPhoneService\", row[\"Phone Service\"])\n",
    "    lines = (row[\"CustomerID\"], \"hasMultipleLines\", row[\"Multiple Lines\"])\n",
    "    \n",
    "    internet = (row[\"CustomerID\"], \"hasInternetService\", row[\"Internet Service\"])\n",
    "    \n",
    "    security = (row[\"CustomerID\"], \"hasOnlineSecurity\", row[\"Online Security\"])\n",
    "    backup = (row[\"CustomerID\"], \"hasOnlineBackup\", row[\"Online Backup\"])\n",
    "    \n",
    "    protection = (row[\"CustomerID\"], \"hasDeviceProtection\", row[\"Device Protection\"])\n",
    "    support =  (row[\"CustomerID\"], \"hasTechSupport\", row[\"Tech Support\"])\n",
    "    \n",
    "    streamingTv = (row[\"CustomerID\"], \"hasStreamingTV\", row[\"Streaming TV\"])\n",
    "    streamingMovies = (row[\"CustomerID\"], \"hasStreamingMovies\", row[\"Streaming Movies\"])\n",
    "    \n",
    "    contract = (row[\"CustomerID\"], \"hasContractType\", row[\"Contract\"])\n",
    "    paperbill = (row[\"CustomerID\"], \"hasPaperlessBilling\", row[\"Paperless Billing\"])\n",
    "    \n",
    "    payMethod = (row[\"CustomerID\"], \"usesPaymentMethod\", row[\"Payment Method\"])\n",
    "    monthly = (row[\"CustomerID\"], \"hasMonthlyCharges\", row[\"Monthly Charges\"])\n",
    "    \n",
    "    total = (row[\"CustomerID\"], \"totalCharges\", row[\"Total Charges\"])\n",
    "    \n",
    "    churn = (row[\"CustomerID\"], \"hasChurned\", row[\"Churn Value\"])\n",
    "    \n",
    "    triples.extend((zipcode,churn,total,monthly,payMethod,paperbill,contract,streamingMovies,streamingTv, support,\n",
    "                   protection,backup,security, internet,lines,phone,Tenure,kids,partner, senior,long,lat,\n",
    "                   gender))\n",
    "    \n",
    "telco_df = pd.DataFrame(triples, columns=[\"subject\", \"predicate\", \"object\"])"
   ]
  },
  {
   "cell_type": "code",
   "execution_count": 22,
   "id": "precise-regular",
   "metadata": {},
   "outputs": [
    {
     "data": {
      "text/html": [
       "<div>\n",
       "<style scoped>\n",
       "    .dataframe tbody tr th:only-of-type {\n",
       "        vertical-align: middle;\n",
       "    }\n",
       "\n",
       "    .dataframe tbody tr th {\n",
       "        vertical-align: top;\n",
       "    }\n",
       "\n",
       "    .dataframe thead th {\n",
       "        text-align: right;\n",
       "    }\n",
       "</style>\n",
       "<table border=\"1\" class=\"dataframe\">\n",
       "  <thead>\n",
       "    <tr style=\"text-align: right;\">\n",
       "      <th></th>\n",
       "      <th>subject</th>\n",
       "      <th>predicate</th>\n",
       "      <th>object</th>\n",
       "    </tr>\n",
       "  </thead>\n",
       "  <tbody>\n",
       "    <tr>\n",
       "      <th>43056</th>\n",
       "      <td>7892-POOKP</td>\n",
       "      <td>hasZipCode</td>\n",
       "      <td>90010</td>\n",
       "    </tr>\n",
       "    <tr>\n",
       "      <th>43057</th>\n",
       "      <td>7892-POOKP</td>\n",
       "      <td>hasChurned</td>\n",
       "      <td>True</td>\n",
       "    </tr>\n",
       "    <tr>\n",
       "      <th>43058</th>\n",
       "      <td>7892-POOKP</td>\n",
       "      <td>totalCharges</td>\n",
       "      <td>3046.05</td>\n",
       "    </tr>\n",
       "    <tr>\n",
       "      <th>43059</th>\n",
       "      <td>7892-POOKP</td>\n",
       "      <td>hasMonthlyCharges</td>\n",
       "      <td>104.8</td>\n",
       "    </tr>\n",
       "    <tr>\n",
       "      <th>43060</th>\n",
       "      <td>7892-POOKP</td>\n",
       "      <td>usesPaymentMethod</td>\n",
       "      <td>Electronic check</td>\n",
       "    </tr>\n",
       "    <tr>\n",
       "      <th>43061</th>\n",
       "      <td>7892-POOKP</td>\n",
       "      <td>hasPaperlessBilling</td>\n",
       "      <td>True</td>\n",
       "    </tr>\n",
       "    <tr>\n",
       "      <th>43062</th>\n",
       "      <td>7892-POOKP</td>\n",
       "      <td>hasContractType</td>\n",
       "      <td>Month-to-month</td>\n",
       "    </tr>\n",
       "    <tr>\n",
       "      <th>43063</th>\n",
       "      <td>7892-POOKP</td>\n",
       "      <td>hasStreamingMovies</td>\n",
       "      <td>True</td>\n",
       "    </tr>\n",
       "    <tr>\n",
       "      <th>43064</th>\n",
       "      <td>7892-POOKP</td>\n",
       "      <td>hasStreamingTV</td>\n",
       "      <td>True</td>\n",
       "    </tr>\n",
       "    <tr>\n",
       "      <th>43065</th>\n",
       "      <td>7892-POOKP</td>\n",
       "      <td>hasTechSupport</td>\n",
       "      <td>True</td>\n",
       "    </tr>\n",
       "    <tr>\n",
       "      <th>43066</th>\n",
       "      <td>7892-POOKP</td>\n",
       "      <td>hasDeviceProtection</td>\n",
       "      <td>True</td>\n",
       "    </tr>\n",
       "    <tr>\n",
       "      <th>43067</th>\n",
       "      <td>7892-POOKP</td>\n",
       "      <td>hasOnlineBackup</td>\n",
       "      <td>False</td>\n",
       "    </tr>\n",
       "    <tr>\n",
       "      <th>43068</th>\n",
       "      <td>7892-POOKP</td>\n",
       "      <td>hasOnlineSecurity</td>\n",
       "      <td>False</td>\n",
       "    </tr>\n",
       "    <tr>\n",
       "      <th>43069</th>\n",
       "      <td>7892-POOKP</td>\n",
       "      <td>hasInternetService</td>\n",
       "      <td>Fiber optic</td>\n",
       "    </tr>\n",
       "    <tr>\n",
       "      <th>43070</th>\n",
       "      <td>7892-POOKP</td>\n",
       "      <td>hasMultipleLines</td>\n",
       "      <td>True</td>\n",
       "    </tr>\n",
       "    <tr>\n",
       "      <th>43071</th>\n",
       "      <td>7892-POOKP</td>\n",
       "      <td>hasPhoneService</td>\n",
       "      <td>True</td>\n",
       "    </tr>\n",
       "    <tr>\n",
       "      <th>43072</th>\n",
       "      <td>7892-POOKP</td>\n",
       "      <td>hasTenure</td>\n",
       "      <td>28</td>\n",
       "    </tr>\n",
       "    <tr>\n",
       "      <th>43073</th>\n",
       "      <td>7892-POOKP</td>\n",
       "      <td>hasDependents</td>\n",
       "      <td>True</td>\n",
       "    </tr>\n",
       "    <tr>\n",
       "      <th>43074</th>\n",
       "      <td>7892-POOKP</td>\n",
       "      <td>hasPartner</td>\n",
       "      <td>True</td>\n",
       "    </tr>\n",
       "    <tr>\n",
       "      <th>43075</th>\n",
       "      <td>7892-POOKP</td>\n",
       "      <td>SeniorCitizen</td>\n",
       "      <td>False</td>\n",
       "    </tr>\n",
       "    <tr>\n",
       "      <th>43076</th>\n",
       "      <td>7892-POOKP</td>\n",
       "      <td>hasLongitude</td>\n",
       "      <td>-118.315709</td>\n",
       "    </tr>\n",
       "    <tr>\n",
       "      <th>43077</th>\n",
       "      <td>7892-POOKP</td>\n",
       "      <td>hasLatitude</td>\n",
       "      <td>34.062125</td>\n",
       "    </tr>\n",
       "    <tr>\n",
       "      <th>43078</th>\n",
       "      <td>7892-POOKP</td>\n",
       "      <td>hasGender</td>\n",
       "      <td>Female</td>\n",
       "    </tr>\n",
       "  </tbody>\n",
       "</table>\n",
       "</div>"
      ],
      "text/plain": [
       "          subject            predicate            object\n",
       "43056  7892-POOKP           hasZipCode             90010\n",
       "43057  7892-POOKP           hasChurned              True\n",
       "43058  7892-POOKP         totalCharges           3046.05\n",
       "43059  7892-POOKP    hasMonthlyCharges             104.8\n",
       "43060  7892-POOKP    usesPaymentMethod  Electronic check\n",
       "43061  7892-POOKP  hasPaperlessBilling              True\n",
       "43062  7892-POOKP      hasContractType    Month-to-month\n",
       "43063  7892-POOKP   hasStreamingMovies              True\n",
       "43064  7892-POOKP       hasStreamingTV              True\n",
       "43065  7892-POOKP       hasTechSupport              True\n",
       "43066  7892-POOKP  hasDeviceProtection              True\n",
       "43067  7892-POOKP      hasOnlineBackup             False\n",
       "43068  7892-POOKP    hasOnlineSecurity             False\n",
       "43069  7892-POOKP   hasInternetService       Fiber optic\n",
       "43070  7892-POOKP     hasMultipleLines              True\n",
       "43071  7892-POOKP      hasPhoneService              True\n",
       "43072  7892-POOKP            hasTenure                28\n",
       "43073  7892-POOKP        hasDependents              True\n",
       "43074  7892-POOKP           hasPartner              True\n",
       "43075  7892-POOKP        SeniorCitizen             False\n",
       "43076  7892-POOKP         hasLongitude       -118.315709\n",
       "43077  7892-POOKP          hasLatitude         34.062125\n",
       "43078  7892-POOKP            hasGender            Female"
      ]
     },
     "execution_count": 22,
     "metadata": {},
     "output_type": "execute_result"
    }
   ],
   "source": [
    "telco_df[(telco_df.subject==\"7892-POOKP\")]"
   ]
  },
  {
   "cell_type": "code",
   "execution_count": 23,
   "id": "advisory-basics",
   "metadata": {},
   "outputs": [],
   "source": [
    "telco_df.to_csv(\"TelcoTriples.csv\")\n",
    "\n",
    "df.to_csv(\"Telco_prepped.csv\")"
   ]
  },
  {
   "cell_type": "code",
   "execution_count": null,
   "id": "40678231",
   "metadata": {},
   "outputs": [],
   "source": []
  },
  {
   "cell_type": "code",
   "execution_count": null,
   "id": "b525d1d2",
   "metadata": {},
   "outputs": [],
   "source": []
  },
  {
   "cell_type": "code",
   "execution_count": 24,
   "id": "89f87aad",
   "metadata": {},
   "outputs": [
    {
     "name": "stdout",
     "output_type": "stream",
     "text": [
      "85974\n",
      "44814\n"
     ]
    }
   ],
   "source": [
    "print(len(telco_df))\n",
    "print(len(triples_df))"
   ]
  },
  {
   "cell_type": "code",
   "execution_count": 25,
   "id": "c60abcd1",
   "metadata": {},
   "outputs": [
    {
     "name": "stdout",
     "output_type": "stream",
     "text": [
      "23\n",
      "11\n"
     ]
    }
   ],
   "source": [
    "print(len(np.unique(telco_df[\"predicate\"])))\n",
    "print(len(np.unique(triples_df[\"predicate\"])))"
   ]
  },
  {
   "cell_type": "code",
   "execution_count": 26,
   "id": "bfe40437",
   "metadata": {},
   "outputs": [
    {
     "name": "stdout",
     "output_type": "stream",
     "text": [
      "12987\n"
     ]
    },
    {
     "data": {
      "text/plain": [
       "list"
      ]
     },
     "execution_count": 26,
     "metadata": {},
     "output_type": "execute_result"
    }
   ],
   "source": [
    "\n",
    "telcoEnties = pd.concat([telco_df[\"object\"],telco_df[\"subject\"]]).tolist()\n",
    "\n",
    "numEnts = len(np.unique(telcoEnties))\n",
    "print(numEnts)\n",
    "type(telcoEnties)"
   ]
  },
  {
   "cell_type": "code",
   "execution_count": 27,
   "id": "5c92e512",
   "metadata": {},
   "outputs": [
    {
     "name": "stdout",
     "output_type": "stream",
     "text": [
      "11455\n"
     ]
    }
   ],
   "source": [
    "bankEnties = pd.concat([triples_df[\"object\"],triples_df[\"subject\"]]).tolist()\n",
    "\n",
    "numEnts = len(np.unique(bankEnties))\n",
    "print(numEnts)"
   ]
  },
  {
   "cell_type": "code",
   "execution_count": 28,
   "id": "6a6232dd",
   "metadata": {},
   "outputs": [
    {
     "data": {
      "text/plain": [
       "(85974, 3)"
      ]
     },
     "execution_count": 28,
     "metadata": {},
     "output_type": "execute_result"
    }
   ],
   "source": [
    "np.shape(telco_df)"
   ]
  },
  {
   "cell_type": "code",
   "execution_count": 29,
   "id": "069ca262",
   "metadata": {},
   "outputs": [
    {
     "data": {
      "text/plain": [
       "(3738, 25)"
      ]
     },
     "execution_count": 29,
     "metadata": {},
     "output_type": "execute_result"
    }
   ],
   "source": [
    "np.shape(df)"
   ]
  },
  {
   "cell_type": "code",
   "execution_count": 30,
   "id": "690c35ed",
   "metadata": {},
   "outputs": [
    {
     "data": {
      "text/plain": [
       "331021"
      ]
     },
     "execution_count": 30,
     "metadata": {},
     "output_type": "execute_result"
    }
   ],
   "source": [
    "dimTriple = 169032 * 3\n",
    "dimNorm = 7043 * 25\n",
    "\n",
    "dimTriple - dimNorm\n"
   ]
  },
  {
   "cell_type": "code",
   "execution_count": null,
   "id": "e9cd21a3",
   "metadata": {},
   "outputs": [],
   "source": []
  }
 ],
 "metadata": {
  "kernelspec": {
   "display_name": "Python 3",
   "language": "python",
   "name": "python3"
  },
  "language_info": {
   "codemirror_mode": {
    "name": "ipython",
    "version": 3
   },
   "file_extension": ".py",
   "mimetype": "text/x-python",
   "name": "python",
   "nbconvert_exporter": "python",
   "pygments_lexer": "ipython3",
   "version": "3.7.10"
  }
 },
 "nbformat": 4,
 "nbformat_minor": 5
}
